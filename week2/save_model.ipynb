{
 "cells": [
  {
   "cell_type": "code",
   "execution_count": 1,
   "id": "9c85c768",
   "metadata": {},
   "outputs": [],
   "source": [
    "import pandas as pd\n",
    "import numpy as np\n",
    "\n",
    "import pickle\n",
    "import seaborn as sns\n",
    "import matplotlib.pyplot as plt\n",
    "\n",
    "from sklearn.feature_extraction import DictVectorizer\n",
    "from sklearn.linear_model import LinearRegression\n",
    "\n",
    "from sklearn.metrics import mean_squared_error\n",
    "\n",
    "import xgboost as xgb\n",
    "\n",
    "import mlflow"
   ]
  },
  {
   "cell_type": "code",
   "execution_count": 2,
   "id": "bc7a9023",
   "metadata": {},
   "outputs": [],
   "source": [
    "def read_dataframe(filename):\n",
    "    if filename.endswith('.csv'):\n",
    "        df = pd.read_csv(filename)\n",
    "\n",
    "        df.tpep_dropoff_datetime = pd.to_datetime(df.tpep_dropoff_datetime)\n",
    "        df.tpep_pickup_datetime = pd.to_datetime(df.tpep_pickup_datetime)\n",
    "    elif filename.endswith('.parquet'):\n",
    "        df = pd.read_parquet(filename)\n",
    "\n",
    "    df['duration'] = df.tpep_dropoff_datetime - df.tpep_pickup_datetime\n",
    "    df.duration = df.duration.apply(lambda td: td.total_seconds() / 60)\n",
    "\n",
    "    df = df[(df.duration >= 1) & (df.duration <= 60)]\n",
    "\n",
    "    categorical = ['PULocationID', 'DOLocationID']\n",
    "    df[categorical] = df[categorical].astype(str)\n",
    "    \n",
    "    return df"
   ]
  },
  {
   "cell_type": "code",
   "execution_count": 3,
   "id": "864ae2e3",
   "metadata": {},
   "outputs": [],
   "source": [
    "jan_df = read_dataframe('data/yellow_tripdata_2022-01.parquet')\n",
    "feb_df = read_dataframe('data/yellow_tripdata_2022-02.parquet')"
   ]
  },
  {
   "cell_type": "code",
   "execution_count": 4,
   "id": "24468908",
   "metadata": {},
   "outputs": [],
   "source": [
    "dv = DictVectorizer()\n",
    "\n",
    "categorical = ['PULocationID', 'DOLocationID']\n",
    "target='duration'\n",
    "\n",
    "X_train=jan_df[categorical].to_dict(orient='records')\n",
    "\n",
    "X_train = dv.fit_transform(X_train)\n",
    "\n",
    "Y_train=jan_df[target].values\n",
    "\n",
    "X_val=feb_df[categorical].to_dict(orient='records')\n",
    "\n",
    "X_val = dv.transform(X_val)\n",
    "\n",
    "Y_val=feb_df[target].values"
   ]
  },
  {
   "cell_type": "code",
   "execution_count": 5,
   "id": "9a9202e8",
   "metadata": {},
   "outputs": [
    {
     "data": {
      "text/html": [
       "<style>#sk-container-id-1 {color: black;background-color: white;}#sk-container-id-1 pre{padding: 0;}#sk-container-id-1 div.sk-toggleable {background-color: white;}#sk-container-id-1 label.sk-toggleable__label {cursor: pointer;display: block;width: 100%;margin-bottom: 0;padding: 0.3em;box-sizing: border-box;text-align: center;}#sk-container-id-1 label.sk-toggleable__label-arrow:before {content: \"▸\";float: left;margin-right: 0.25em;color: #696969;}#sk-container-id-1 label.sk-toggleable__label-arrow:hover:before {color: black;}#sk-container-id-1 div.sk-estimator:hover label.sk-toggleable__label-arrow:before {color: black;}#sk-container-id-1 div.sk-toggleable__content {max-height: 0;max-width: 0;overflow: hidden;text-align: left;background-color: #f0f8ff;}#sk-container-id-1 div.sk-toggleable__content pre {margin: 0.2em;color: black;border-radius: 0.25em;background-color: #f0f8ff;}#sk-container-id-1 input.sk-toggleable__control:checked~div.sk-toggleable__content {max-height: 200px;max-width: 100%;overflow: auto;}#sk-container-id-1 input.sk-toggleable__control:checked~label.sk-toggleable__label-arrow:before {content: \"▾\";}#sk-container-id-1 div.sk-estimator input.sk-toggleable__control:checked~label.sk-toggleable__label {background-color: #d4ebff;}#sk-container-id-1 div.sk-label input.sk-toggleable__control:checked~label.sk-toggleable__label {background-color: #d4ebff;}#sk-container-id-1 input.sk-hidden--visually {border: 0;clip: rect(1px 1px 1px 1px);clip: rect(1px, 1px, 1px, 1px);height: 1px;margin: -1px;overflow: hidden;padding: 0;position: absolute;width: 1px;}#sk-container-id-1 div.sk-estimator {font-family: monospace;background-color: #f0f8ff;border: 1px dotted black;border-radius: 0.25em;box-sizing: border-box;margin-bottom: 0.5em;}#sk-container-id-1 div.sk-estimator:hover {background-color: #d4ebff;}#sk-container-id-1 div.sk-parallel-item::after {content: \"\";width: 100%;border-bottom: 1px solid gray;flex-grow: 1;}#sk-container-id-1 div.sk-label:hover label.sk-toggleable__label {background-color: #d4ebff;}#sk-container-id-1 div.sk-serial::before {content: \"\";position: absolute;border-left: 1px solid gray;box-sizing: border-box;top: 0;bottom: 0;left: 50%;z-index: 0;}#sk-container-id-1 div.sk-serial {display: flex;flex-direction: column;align-items: center;background-color: white;padding-right: 0.2em;padding-left: 0.2em;position: relative;}#sk-container-id-1 div.sk-item {position: relative;z-index: 1;}#sk-container-id-1 div.sk-parallel {display: flex;align-items: stretch;justify-content: center;background-color: white;position: relative;}#sk-container-id-1 div.sk-item::before, #sk-container-id-1 div.sk-parallel-item::before {content: \"\";position: absolute;border-left: 1px solid gray;box-sizing: border-box;top: 0;bottom: 0;left: 50%;z-index: -1;}#sk-container-id-1 div.sk-parallel-item {display: flex;flex-direction: column;z-index: 1;position: relative;background-color: white;}#sk-container-id-1 div.sk-parallel-item:first-child::after {align-self: flex-end;width: 50%;}#sk-container-id-1 div.sk-parallel-item:last-child::after {align-self: flex-start;width: 50%;}#sk-container-id-1 div.sk-parallel-item:only-child::after {width: 0;}#sk-container-id-1 div.sk-dashed-wrapped {border: 1px dashed gray;margin: 0 0.4em 0.5em 0.4em;box-sizing: border-box;padding-bottom: 0.4em;background-color: white;}#sk-container-id-1 div.sk-label label {font-family: monospace;font-weight: bold;display: inline-block;line-height: 1.2em;}#sk-container-id-1 div.sk-label-container {text-align: center;}#sk-container-id-1 div.sk-container {/* jupyter's `normalize.less` sets `[hidden] { display: none; }` but bootstrap.min.css set `[hidden] { display: none !important; }` so we also need the `!important` here to be able to override the default hidden behavior on the sphinx rendered scikit-learn.org. See: https://github.com/scikit-learn/scikit-learn/issues/21755 */display: inline-block !important;position: relative;}#sk-container-id-1 div.sk-text-repr-fallback {display: none;}</style><div id=\"sk-container-id-1\" class=\"sk-top-container\"><div class=\"sk-text-repr-fallback\"><pre>LinearRegression()</pre><b>In a Jupyter environment, please rerun this cell to show the HTML representation or trust the notebook. <br />On GitHub, the HTML representation is unable to render, please try loading this page with nbviewer.org.</b></div><div class=\"sk-container\" hidden><div class=\"sk-item\"><div class=\"sk-estimator sk-toggleable\"><input class=\"sk-toggleable__control sk-hidden--visually\" id=\"sk-estimator-id-1\" type=\"checkbox\" checked><label for=\"sk-estimator-id-1\" class=\"sk-toggleable__label sk-toggleable__label-arrow\">LinearRegression</label><div class=\"sk-toggleable__content\"><pre>LinearRegression()</pre></div></div></div></div></div>"
      ],
      "text/plain": [
       "LinearRegression()"
      ]
     },
     "execution_count": 5,
     "metadata": {},
     "output_type": "execute_result"
    }
   ],
   "source": [
    "lr = LinearRegression()\n",
    "lr.fit(X_train, Y_train)"
   ]
  },
  {
   "cell_type": "code",
   "execution_count": 8,
   "id": "89100b50",
   "metadata": {},
   "outputs": [
    {
     "data": {
      "text/plain": [
       "6.986191065500608"
      ]
     },
     "execution_count": 8,
     "metadata": {},
     "output_type": "execute_result"
    }
   ],
   "source": [
    "Y_pred = lr.predict(X_train)\n",
    "mean_squared_error(Y_train, Y_pred, squared=False)"
   ]
  },
  {
   "cell_type": "markdown",
   "id": "4c7e787d",
   "metadata": {},
   "source": [
    "## Saving The Model and Preprocessor using Mlflow"
   ]
  },
  {
   "cell_type": "code",
   "execution_count": 5,
   "id": "a8a019f9",
   "metadata": {},
   "outputs": [
    {
     "name": "stderr",
     "output_type": "stream",
     "text": [
      "2023/05/24 12:48:13 INFO mlflow.tracking.fluent: Experiment with name 'nyc-taxi-experiment1' does not exist. Creating a new experiment.\n"
     ]
    },
    {
     "data": {
      "text/plain": [
       "<Experiment: artifact_location='/home/moses/Documents/mlops-zoomcamp/week2/mlruns/1', creation_time=1684928893026, experiment_id='1', last_update_time=1684928893026, lifecycle_stage='active', name='nyc-taxi-experiment1', tags={}>"
      ]
     },
     "execution_count": 5,
     "metadata": {},
     "output_type": "execute_result"
    }
   ],
   "source": [
    "mlflow.set_tracking_uri('sqlite:///mlflow.db')\n",
    "mlflow.set_experiment('nyc-taxi-experiment1')"
   ]
  },
  {
   "cell_type": "code",
   "execution_count": 6,
   "id": "5595b4f2",
   "metadata": {},
   "outputs": [],
   "source": [
    "train=xgb.DMatrix(X_train, label=Y_train)\n",
    "valid=xgb.DMatrix(X_val, label=Y_val)"
   ]
  },
  {
   "cell_type": "code",
   "execution_count": 12,
   "id": "0218fc9b",
   "metadata": {},
   "outputs": [
    {
     "name": "stdout",
     "output_type": "stream",
     "text": [
      "[14:19:32] WARNING: ../src/objective/regression_obj.cu:213: reg:linear is now deprecated in favor of reg:squarederror.\n",
      "[0]\tvalidation-rmse:9.16360\n",
      "[1]\tvalidation-rmse:7.05314\n",
      "[2]\tvalidation-rmse:6.46828\n",
      "[3]\tvalidation-rmse:5.99469\n",
      "[4]\tvalidation-rmse:5.87734\n",
      "[5]\tvalidation-rmse:5.81240\n",
      "[6]\tvalidation-rmse:5.77935\n",
      "[7]\tvalidation-rmse:5.52859\n",
      "[8]\tvalidation-rmse:5.52441\n",
      "[9]\tvalidation-rmse:5.51751\n",
      "[10]\tvalidation-rmse:5.50425\n",
      "[11]\tvalidation-rmse:5.47031\n",
      "[12]\tvalidation-rmse:5.46145\n",
      "[13]\tvalidation-rmse:5.45956\n",
      "[14]\tvalidation-rmse:5.45825\n",
      "[15]\tvalidation-rmse:5.45657\n",
      "[16]\tvalidation-rmse:5.43942\n",
      "[17]\tvalidation-rmse:5.43861\n",
      "[18]\tvalidation-rmse:5.43531\n",
      "[19]\tvalidation-rmse:5.43527\n",
      "[20]\tvalidation-rmse:5.43297\n",
      "[21]\tvalidation-rmse:5.43116\n",
      "[22]\tvalidation-rmse:5.43089\n",
      "[23]\tvalidation-rmse:5.42923\n",
      "[24]\tvalidation-rmse:5.42920\n",
      "[25]\tvalidation-rmse:5.42796\n",
      "[26]\tvalidation-rmse:5.42780\n",
      "[27]\tvalidation-rmse:5.42733\n",
      "[28]\tvalidation-rmse:5.42704\n",
      "[29]\tvalidation-rmse:5.42701\n",
      "[30]\tvalidation-rmse:5.42696\n",
      "[31]\tvalidation-rmse:5.42635\n",
      "[32]\tvalidation-rmse:5.42620\n",
      "[33]\tvalidation-rmse:5.42606\n",
      "[34]\tvalidation-rmse:5.42595\n",
      "[35]\tvalidation-rmse:5.42580\n",
      "[36]\tvalidation-rmse:5.42568\n",
      "[37]\tvalidation-rmse:5.42564\n",
      "[38]\tvalidation-rmse:5.42562\n",
      "[39]\tvalidation-rmse:5.42550\n",
      "[40]\tvalidation-rmse:5.42549\n",
      "[41]\tvalidation-rmse:5.42548\n",
      "[42]\tvalidation-rmse:5.42548\n",
      "[43]\tvalidation-rmse:5.42547\n",
      "[44]\tvalidation-rmse:5.42545\n",
      "[45]\tvalidation-rmse:5.42543\n",
      "[46]\tvalidation-rmse:5.42541\n",
      "[47]\tvalidation-rmse:5.42541\n",
      "[48]\tvalidation-rmse:5.42537\n",
      "[49]\tvalidation-rmse:5.42536\n",
      "[50]\tvalidation-rmse:5.42536\n",
      "[51]\tvalidation-rmse:5.42536\n",
      "[52]\tvalidation-rmse:5.42537\n",
      "[53]\tvalidation-rmse:5.42535\n",
      "[54]\tvalidation-rmse:5.42535\n",
      "[55]\tvalidation-rmse:5.42534\n",
      "[56]\tvalidation-rmse:5.42533\n",
      "[57]\tvalidation-rmse:5.42533\n",
      "[58]\tvalidation-rmse:5.42533\n",
      "[59]\tvalidation-rmse:5.42533\n",
      "[60]\tvalidation-rmse:5.42533\n",
      "[61]\tvalidation-rmse:5.42533\n",
      "[62]\tvalidation-rmse:5.42532\n",
      "[63]\tvalidation-rmse:5.42533\n",
      "[64]\tvalidation-rmse:5.42533\n",
      "[65]\tvalidation-rmse:5.42533\n",
      "[66]\tvalidation-rmse:5.42533\n"
     ]
    }
   ],
   "source": [
    "with mlflow.start_run():\n",
    "    params = {\n",
    "        'learning_rate' : 0.6620269443945731,\n",
    "        'max_depth' : 75,\n",
    "        'min_child_weight' : 0.6681121434468128,\n",
    "        'objective' : 'reg:linear',\n",
    "        'reg_alpha' : 0.009835858863989126,\n",
    "        'reg_lambda' : 0.23315101108258487,\n",
    "        'seed' : 42\n",
    "    }\n",
    "\n",
    "    mlflow.log_params(params)\n",
    "    \n",
    "    booster = xgb.train(\n",
    "        params=params,\n",
    "        dtrain=train,\n",
    "        num_boost_round=100,\n",
    "        evals=[(valid, 'validation')],\n",
    "        early_stopping_rounds=5\n",
    "\n",
    "    )\n",
    "    \n",
    "    y_pred = booster.predict(valid)\n",
    "    rmse=mean_squared_error(Y_val, y_pred, squared=False)\n",
    "    mlflow.log_metric(\"Rmse\", rmse)\n",
    "    \n",
    "    with open('model/preprocessor.b', 'wb') as f_out:\n",
    "        pickle.dump(dv, f_out)\n",
    "    \n",
    "    mlflow.log_artifact('model/preprocessor.b', artifact_path='preprocessor')\n",
    "    \n",
    "    mlflow.xgboost.log_model(booster, artifact_path='models_mlflow')\n",
    "\n"
   ]
  },
  {
   "cell_type": "markdown",
   "id": "4ec4a8ec",
   "metadata": {},
   "source": [
    "## Saving the model as an artifact"
   ]
  },
  {
   "cell_type": "code",
   "execution_count": 24,
   "id": "0b5a2c9c",
   "metadata": {},
   "outputs": [
    {
     "name": "stdout",
     "output_type": "stream",
     "text": [
      "[12:29:54] WARNING: ../src/objective/regression_obj.cu:213: reg:linear is now deprecated in favor of reg:squarederror.\n",
      "[0]\tvalidation-rmse:9.16360\n",
      "[1]\tvalidation-rmse:7.05314\n",
      "[2]\tvalidation-rmse:6.46828\n",
      "[3]\tvalidation-rmse:5.99469\n",
      "[4]\tvalidation-rmse:5.87734\n",
      "[5]\tvalidation-rmse:5.81240\n",
      "[6]\tvalidation-rmse:5.77935\n",
      "[7]\tvalidation-rmse:5.52859\n",
      "[8]\tvalidation-rmse:5.52441\n",
      "[9]\tvalidation-rmse:5.51751\n"
     ]
    }
   ],
   "source": [
    "\n",
    "with mlflow.start_run():\n",
    "    params = {\n",
    "        'learning_rate' : 0.6620269443945731,\n",
    "        'max_depth' : 75,\n",
    "        'min_child_weight' : 0.6681121434468128,\n",
    "        'objective' : 'reg:linear',\n",
    "        'reg_alpha' : 0.009835858863989126,\n",
    "        'reg_lambda' : 0.23315101108258487,\n",
    "        'seed' : 42\n",
    "    }\n",
    "\n",
    "    mlflow.log_params(params)\n",
    "    \n",
    "    booster = xgb.train(\n",
    "        params=params,\n",
    "        dtrain=train,\n",
    "        num_boost_round=10,\n",
    "        evals=[(valid, 'validation')],\n",
    "        early_stopping_rounds=5\n",
    "\n",
    "    )\n",
    "    \n",
    "    y_pred = booster.predict(valid)\n",
    "    rmse=mean_squared_error(Y_val, y_pred, squared=False)\n",
    "    mlflow.log_metric(\"Rmse\", rmse)\n",
    "    \n",
    "    with open('model/lin_model.bin', 'wb') as f_out:\n",
    "        pickle.dump(booster, f_out)\n",
    "    \n",
    "    mlflow.log_artifact('model/lin_model.bin', artifact_path='xgboost_model')\n"
   ]
  },
  {
   "cell_type": "code",
   "execution_count": null,
   "id": "37ec3018",
   "metadata": {},
   "outputs": [],
   "source": []
  }
 ],
 "metadata": {
  "kernelspec": {
   "display_name": "Python 3 (ipykernel)",
   "language": "python",
   "name": "python3"
  },
  "language_info": {
   "codemirror_mode": {
    "name": "ipython",
    "version": 3
   },
   "file_extension": ".py",
   "mimetype": "text/x-python",
   "name": "python",
   "nbconvert_exporter": "python",
   "pygments_lexer": "ipython3",
   "version": "3.10.6"
  }
 },
 "nbformat": 4,
 "nbformat_minor": 5
}
