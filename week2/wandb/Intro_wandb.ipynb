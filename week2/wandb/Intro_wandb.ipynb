{
 "cells": [
  {
   "cell_type": "code",
   "execution_count": 1,
   "id": "92f74972",
   "metadata": {},
   "outputs": [],
   "source": [
    "import wandb\n",
    "\n",
    "import pickle\n",
    "\n",
    "from sklearn.linear_model import LogisticRegression\n",
    "from sklearn.datasets import load_iris\n",
    "from sklearn.metrics import accuracy_score, mean_squared_error"
   ]
  },
  {
   "cell_type": "code",
   "execution_count": null,
   "id": "7e7f92c3",
   "metadata": {},
   "outputs": [
    {
     "name": "stderr",
     "output_type": "stream",
     "text": [
      "Failed to sample metric: Not Supported\n",
      "Failed to sample metric: Not Supported\n",
      "Failed to sample metric: Not Supported\n",
      "Failed to sample metric: Not Supported\n"
     ]
    },
    {
     "data": {
      "text/html": [
       "Finishing last run (ID:c6wmfqln) before initializing another..."
      ],
      "text/plain": [
       "<IPython.core.display.HTML object>"
      ]
     },
     "metadata": {},
     "output_type": "display_data"
    },
    {
     "data": {
      "text/html": [
       "Waiting for W&B process to finish... <strong style=\"color:green\">(success).</strong>"
      ],
      "text/plain": [
       "<IPython.core.display.HTML object>"
      ]
     },
     "metadata": {},
     "output_type": "display_data"
    },
    {
     "name": "stderr",
     "output_type": "stream",
     "text": [
      "Failed to serialize metric: Not Supported\n",
      "Failed to serialize metric: Not Supported\n",
      "Failed to serialize metric: division by zero\n",
      "wandb: ERROR Dropped streaming file chunk (see wandb/debug-internal.log)\n",
      "409 response executing GraphQL.\n",
      "{\"errors\":[{\"message\":\"run moses-team/mlops-zoomcampnotebook/c6wmfqln was previously created and deleted; try a new run name\",\"path\":[\"upsertBucket\"]}],\"data\":{\"upsertBucket\":null}}\n",
      "wandb: ERROR Error while calling W&B API: run moses-team/mlops-zoomcampnotebook/c6wmfqln was previously created and deleted; try a new run name (<Response [409]>)\n",
      "409 response executing GraphQL.\n",
      "{\"errors\":[{\"message\":\"run moses-team/mlops-zoomcampnotebook/c6wmfqln was previously created and deleted; try a new run name\",\"path\":[\"upsertBucket\"]}],\"data\":{\"upsertBucket\":null}}\n",
      "wandb: ERROR Error while calling W&B API: run moses-team/mlops-zoomcampnotebook/c6wmfqln was previously created and deleted; try a new run name (<Response [409]>)\n",
      "409 response executing GraphQL.\n",
      "{\"errors\":[{\"message\":\"run moses-team/mlops-zoomcampnotebook/c6wmfqln was previously created and deleted; try a new run name\",\"path\":[\"upsertBucket\"]}],\"data\":{\"upsertBucket\":null}}\n",
      "wandb: ERROR Error while calling W&B API: run moses-team/mlops-zoomcampnotebook/c6wmfqln was previously created and deleted; try a new run name (<Response [409]>)\n",
      "409 response executing GraphQL.\n",
      "{\"errors\":[{\"message\":\"run moses-team/mlops-zoomcampnotebook/c6wmfqln was previously created and deleted; try a new run name\",\"path\":[\"upsertBucket\"]}],\"data\":{\"upsertBucket\":null}}\n",
      "wandb: ERROR Error while calling W&B API: run moses-team/mlops-zoomcampnotebook/c6wmfqln was previously created and deleted; try a new run name (<Response [409]>)\n",
      "409 response executing GraphQL.\n",
      "{\"errors\":[{\"message\":\"run moses-team/mlops-zoomcampnotebook/c6wmfqln was previously created and deleted; try a new run name\",\"path\":[\"upsertBucket\"]}],\"data\":{\"upsertBucket\":null}}\n",
      "wandb: ERROR Error while calling W&B API: run moses-team/mlops-zoomcampnotebook/c6wmfqln was previously created and deleted; try a new run name (<Response [409]>)\n",
      "\u001b[34m\u001b[1mwandb\u001b[0m: \u001b[32m\u001b[41mERROR\u001b[0m Control-C detected -- Run data was not synced\n"
     ]
    },
    {
     "data": {
      "text/html": [
       "Successfully finished last run (ID:c6wmfqln). Initializing new run:<br/>"
      ],
      "text/plain": [
       "<IPython.core.display.HTML object>"
      ]
     },
     "metadata": {},
     "output_type": "display_data"
    },
    {
     "data": {
      "application/vnd.jupyter.widget-view+json": {
       "model_id": "ff32905446da4096baab3f1f0577c0d0",
       "version_major": 2,
       "version_minor": 0
      },
      "text/plain": [
       "VBox(children=(Label(value='Waiting for wandb.init()...\\r'), FloatProgress(value=0.016684004433333635, max=1.0…"
      ]
     },
     "metadata": {},
     "output_type": "display_data"
    },
    {
     "name": "stderr",
     "output_type": "stream",
     "text": [
      "wandb: ERROR Dropped streaming file chunk (see wandb/debug-internal.log)\n",
      "409 response executing GraphQL.\n",
      "{\"errors\":[{\"message\":\"run moses-team/mlops-zoomcampnotebook/c6wmfqln was previously created and deleted; try a new run name\",\"path\":[\"upsertBucket\"]}],\"data\":{\"upsertBucket\":null}}\n",
      "wandb: ERROR Error while calling W&B API: run moses-team/mlops-zoomcampnotebook/c6wmfqln was previously created and deleted; try a new run name (<Response [409]>)\n"
     ]
    }
   ],
   "source": [
    "wandb.init(project=\"mlops-zoomcampnotebook\", name=\"experimentv1\")"
   ]
  },
  {
   "cell_type": "code",
   "execution_count": 5,
   "id": "1bcec058",
   "metadata": {},
   "outputs": [
    {
     "name": "stderr",
     "output_type": "stream",
     "text": [
      "Failed to sample metric: Not Supported\n",
      "Failed to sample metric: Not Supported\n",
      "Failed to sample metric: Not Supported\n",
      "Failed to sample metric: Not Supported\n"
     ]
    },
    {
     "name": "stdout",
     "output_type": "stream",
     "text": [
      "\u001b[34m\u001b[1mwandb\u001b[0m: Logging into wandb.ai. (Learn how to deploy a W&B server locally: https://wandb.me/wandb-server)\r\n",
      "\u001b[34m\u001b[1mwandb\u001b[0m: You can find your API key in your browser here: https://wandb.ai/authorize\r\n",
      "\u001b[34m\u001b[1mwandb\u001b[0m: Paste an API key from your profile and hit enter, or press ctrl+c to quit: "
     ]
    },
    {
     "name": "stderr",
     "output_type": "stream",
     "text": [
      "Failed to sample metric: Not Supported\n",
      "Failed to sample metric: Not Supported\n",
      "Failed to sample metric: Not Supported\n",
      "Failed to sample metric: Not Supported\n",
      "Failed to sample metric: Not Supported\n",
      "Failed to sample metric: Not Supported\n",
      "Failed to sample metric: Not Supported\n",
      "Failed to sample metric: Not Supported\n",
      "Failed to sample metric: Not Supported\n",
      "Failed to sample metric: Not Supported\n",
      "Failed to sample metric: Not Supported\n",
      "Failed to sample metric: Not Supported\n",
      "wandb: ERROR Dropped streaming file chunk (see wandb/debug-internal.log)\n",
      "Failed to sample metric: Not Supported\n",
      "Failed to sample metric: Not Supported\n",
      "Failed to sample metric: Not Supported\n",
      "Failed to sample metric: Not Supported\n",
      "Failed to sample metric: Not Supported\n",
      "Failed to sample metric: Not Supported\n",
      "Failed to sample metric: Not Supported\n",
      "Failed to sample metric: Not Supported\n",
      "Failed to sample metric: Not Supported\n",
      "Failed to sample metric: Not Supported\n",
      "Failed to sample metric: Not Supported\n",
      "Failed to sample metric: Not Supported\n",
      "Failed to sample metric: Not Supported\n",
      "Failed to sample metric: Not Supported\n",
      "Failed to sample metric: Not Supported\n",
      "Failed to sample metric: Not Supported\n",
      "Failed to sample metric: Not Supported\n",
      "Failed to sample metric: Not Supported\n",
      "Failed to sample metric: Not Supported\n",
      "Failed to sample metric: Not Supported\n",
      "wandb: ERROR Dropped streaming file chunk (see wandb/debug-internal.log)\n",
      "Failed to sample metric: Not Supported\n",
      "Failed to sample metric: Not Supported\n",
      "Failed to sample metric: Not Supported\n",
      "Failed to sample metric: Not Supported\n",
      "Failed to sample metric: Not Supported\n",
      "Failed to sample metric: Not Supported\n",
      "Failed to sample metric: Not Supported\n",
      "Failed to sample metric: Not Supported\n",
      "Failed to sample metric: Not Supported\n",
      "Failed to sample metric: Not Supported\n",
      "Failed to sample metric: Not Supported\n",
      "Failed to sample metric: Not Supported\n",
      "Failed to sample metric: Not Supported\n",
      "Failed to sample metric: Not Supported\n",
      "Failed to sample metric: Not Supported\n",
      "Failed to sample metric: Not Supported\n",
      "Failed to sample metric: Not Supported\n",
      "Failed to sample metric: Not Supported\n",
      "Failed to sample metric: Not Supported\n",
      "Failed to sample metric: Not Supported\n",
      "wandb: ERROR Dropped streaming file chunk (see wandb/debug-internal.log)\n",
      "Failed to sample metric: Not Supported\n",
      "Failed to sample metric: Not Supported\n",
      "Failed to sample metric: Not Supported\n",
      "Failed to sample metric: Not Supported\n",
      "Failed to serialize metric: Not Supported\n",
      "Failed to serialize metric: Not Supported\n",
      "Failed to serialize metric: division by zero\n",
      "Failed to sample metric: Not Supported\n",
      "Failed to sample metric: Not Supported\n",
      "Failed to sample metric: Not Supported\n",
      "Failed to sample metric: Not Supported\n",
      "Failed to sample metric: Not Supported\n",
      "Failed to sample metric: Not Supported\n",
      "Failed to sample metric: Not Supported\n",
      "Failed to sample metric: Not Supported\n",
      "Failed to sample metric: Not Supported\n",
      "Failed to sample metric: Not Supported\n",
      "Failed to sample metric: Not Supported\n",
      "Failed to sample metric: Not Supported\n",
      "Failed to sample metric: Not Supported\n",
      "Failed to sample metric: Not Supported\n",
      "Failed to sample metric: Not Supported\n",
      "Failed to sample metric: Not Supported\n",
      "wandb: ERROR Dropped streaming file chunk (see wandb/debug-internal.log)\n",
      "Failed to sample metric: Not Supported\n",
      "Failed to sample metric: Not Supported\n",
      "Failed to sample metric: Not Supported\n",
      "Failed to sample metric: Not Supported\n",
      "Failed to sample metric: Not Supported\n",
      "Failed to sample metric: Not Supported\n",
      "Failed to sample metric: Not Supported\n",
      "Failed to sample metric: Not Supported\n",
      "Failed to sample metric: Not Supported\n",
      "Failed to sample metric: Not Supported\n",
      "Failed to sample metric: Not Supported\n",
      "Failed to sample metric: Not Supported\n",
      "Failed to sample metric: Not Supported\n",
      "Failed to sample metric: Not Supported\n",
      "Failed to sample metric: Not Supported\n",
      "Failed to sample metric: Not Supported\n",
      "Failed to sample metric: Not Supported\n",
      "Failed to sample metric: Not Supported\n",
      "Failed to sample metric: Not Supported\n",
      "Failed to sample metric: Not Supported\n",
      "wandb: ERROR Dropped streaming file chunk (see wandb/debug-internal.log)\n",
      "Failed to sample metric: Not Supported\n",
      "Failed to sample metric: Not Supported\n",
      "Failed to sample metric: Not Supported\n",
      "Failed to sample metric: Not Supported\n",
      "Failed to sample metric: Not Supported\n",
      "Failed to sample metric: Not Supported\n",
      "Failed to sample metric: Not Supported\n",
      "Failed to sample metric: Not Supported\n",
      "Failed to sample metric: Not Supported\n",
      "Failed to sample metric: Not Supported\n",
      "Failed to sample metric: Not Supported\n",
      "Failed to sample metric: Not Supported\n",
      "Failed to sample metric: Not Supported\n",
      "Failed to sample metric: Not Supported\n",
      "Failed to sample metric: Not Supported\n",
      "Failed to sample metric: Not Supported\n",
      "Failed to sample metric: Not Supported\n",
      "Failed to sample metric: Not Supported\n",
      "Failed to sample metric: Not Supported\n",
      "Failed to sample metric: Not Supported\n",
      "Failed to sample metric: Not Supported\n",
      "Failed to sample metric: Not Supported\n",
      "Failed to sample metric: Not Supported\n",
      "Failed to sample metric: Not Supported\n",
      "Failed to serialize metric: Not Supported\n",
      "Failed to serialize metric: Not Supported\n",
      "Failed to serialize metric: division by zero\n",
      "Failed to sample metric: Not Supported\n",
      "Failed to sample metric: Not Supported\n",
      "Failed to sample metric: Not Supported\n",
      "Failed to sample metric: Not Supported\n",
      "Failed to sample metric: Not Supported\n",
      "Failed to sample metric: Not Supported\n",
      "Failed to sample metric: Not Supported\n",
      "Failed to sample metric: Not Supported\n",
      "Failed to sample metric: Not Supported\n",
      "Failed to sample metric: Not Supported\n",
      "Failed to sample metric: Not Supported\n",
      "Failed to sample metric: Not Supported\n",
      "Failed to sample metric: Not Supported\n",
      "Failed to sample metric: Not Supported\n",
      "Failed to sample metric: Not Supported\n",
      "Failed to sample metric: Not Supported\n",
      "Failed to sample metric: Not Supported\n",
      "Failed to sample metric: Not Supported\n",
      "Failed to sample metric: Not Supported\n",
      "Failed to sample metric: Not Supported\n",
      "Failed to sample metric: Not Supported\n",
      "Failed to sample metric: Not Supported\n",
      "Failed to sample metric: Not Supported\n",
      "Failed to sample metric: Not Supported\n"
     ]
    },
    {
     "name": "stdout",
     "output_type": "stream",
     "text": [
      "\r\n",
      "Aborted!\r\n"
     ]
    }
   ],
   "source": [
    "!wandb login --relogin"
   ]
  },
  {
   "cell_type": "code",
   "execution_count": 3,
   "id": "98864b0a",
   "metadata": {},
   "outputs": [
    {
     "name": "stdout",
     "output_type": "stream",
     "text": [
      "The version of  the weights and biases is 0.15.3\n"
     ]
    },
    {
     "name": "stderr",
     "output_type": "stream",
     "text": [
      "wandb: ERROR Dropped streaming file chunk (see wandb/debug-internal.log)\n",
      "wandb: ERROR Dropped streaming file chunk (see wandb/debug-internal.log)\n"
     ]
    }
   ],
   "source": [
    "# Question 1\n",
    "print(f'The version of  the weights and biases is {wandb.__version__}')"
   ]
  },
  {
   "cell_type": "code",
   "execution_count": 4,
   "id": "42c553e2",
   "metadata": {},
   "outputs": [
    {
     "name": "stderr",
     "output_type": "stream",
     "text": [
      "wandb: ERROR Dropped streaming file chunk (see wandb/debug-internal.log)\n"
     ]
    },
    {
     "name": "stdout",
     "output_type": "stream",
     "text": [
      "\u001b[34m\u001b[1mwandb\u001b[0m: Currently logged in as: \u001b[33mmosesdaudu001\u001b[0m. Use \u001b[1m`wandb login --relogin`\u001b[0m to force relogin\n",
      "\u001b[34m\u001b[1mwandb\u001b[0m: Tracking run with wandb version 0.15.3\n",
      "\u001b[34m\u001b[1mwandb\u001b[0m: Run data is saved locally in \u001b[35m\u001b[1m/home/moses/Documents/mlops-zoomcamp/week2/wandb/wandb/run-20230606_101204-vslc6t7k\u001b[0m\n",
      "\u001b[34m\u001b[1mwandb\u001b[0m: Run \u001b[1m`wandb offline`\u001b[0m to turn off syncing.\n",
      "\u001b[34m\u001b[1mwandb\u001b[0m: Syncing run \u001b[33mhopeful-morning-1\u001b[0m\n",
      "\u001b[34m\u001b[1mwandb\u001b[0m: ⭐️ View project at \u001b[34m\u001b[4mhttps://wandb.ai/mosesdaudu001/mlops-zoomcampnotebook\u001b[0m\n",
      "\u001b[34m\u001b[1mwandb\u001b[0m: 🚀 View run at \u001b[34m\u001b[4mhttps://wandb.ai/mosesdaudu001/mlops-zoomcampnotebook/runs/vslc6t7k\u001b[0m\n",
      "\u001b[34m\u001b[1mwandb\u001b[0m: Adding directory to artifact (./output)... Done. 0.0s\n",
      "\u001b[34m\u001b[1mwandb\u001b[0m: Waiting for W&B process to finish... \u001b[32m(success).\u001b[0m\n"
     ]
    },
    {
     "name": "stderr",
     "output_type": "stream",
     "text": [
      "wandb: ERROR Dropped streaming file chunk (see wandb/debug-internal.log)\n",
      "wandb: ERROR Dropped streaming file chunk (see wandb/debug-internal.log)\n"
     ]
    },
    {
     "name": "stdout",
     "output_type": "stream",
     "text": [
      "\u001b[34m\u001b[1mwandb\u001b[0m: 🚀 View run \u001b[33mhopeful-morning-1\u001b[0m at: \u001b[34m\u001b[4mhttps://wandb.ai/mosesdaudu001/mlops-zoomcampnotebook/runs/vslc6t7k\u001b[0m\r\n",
      "\u001b[34m\u001b[1mwandb\u001b[0m: Synced 5 W&B file(s), 0 media file(s), 6 artifact file(s) and 0 other file(s)\r\n",
      "\u001b[34m\u001b[1mwandb\u001b[0m: Find logs at: \u001b[35m\u001b[1m./wandb/run-20230606_101204-vslc6t7k/logs\u001b[0m\r\n"
     ]
    },
    {
     "name": "stderr",
     "output_type": "stream",
     "text": [
      "Failed to sample metric: Not Supported\n",
      "Failed to sample metric: Not Supported\n",
      "Failed to sample metric: Not Supported\n",
      "Failed to sample metric: Not Supported\n"
     ]
    }
   ],
   "source": [
    "!python preprocess_data.py --wandb_project mlops-zoomcampnotebook --wandb_entity mosesdaudu001 --raw_data_path data --dest_path output"
   ]
  },
  {
   "cell_type": "code",
   "execution_count": 6,
   "id": "beca0be5",
   "metadata": {},
   "outputs": [
    {
     "name": "stderr",
     "output_type": "stream",
     "text": [
      "Failed to sample metric: Not Supported\n",
      "Failed to sample metric: Not Supported\n",
      "Failed to sample metric: Not Supported\n",
      "Failed to sample metric: Not Supported\n",
      "Failed to sample metric: Not Supported\n",
      "Failed to sample metric: Not Supported\n",
      "Failed to sample metric: Not Supported\n",
      "Failed to sample metric: Not Supported\n"
     ]
    },
    {
     "name": "stdout",
     "output_type": "stream",
     "text": [
      "\u001b[34m\u001b[1mwandb\u001b[0m: Currently logged in as: \u001b[33mmosesdaudu001\u001b[0m. Use \u001b[1m`wandb login --relogin`\u001b[0m to force relogin\n",
      "\u001b[34m\u001b[1mwandb\u001b[0m: Tracking run with wandb version 0.15.3\n",
      "\u001b[34m\u001b[1mwandb\u001b[0m: Run data is saved locally in \u001b[35m\u001b[1m/home/moses/Documents/mlops-zoomcamp/week2/wandb/wandb/run-20230605_155231-qskt6rf7\u001b[0m\n",
      "\u001b[34m\u001b[1mwandb\u001b[0m: Run \u001b[1m`wandb offline`\u001b[0m to turn off syncing.\n",
      "\u001b[34m\u001b[1mwandb\u001b[0m: Syncing run \u001b[33mflowing-grass-27\u001b[0m\n",
      "\u001b[34m\u001b[1mwandb\u001b[0m: ⭐️ View project at \u001b[34m\u001b[4mhttps://wandb.ai/mosesdaudu001/mlops-zoomcamp-wandb\u001b[0m\n",
      "\u001b[34m\u001b[1mwandb\u001b[0m: 🚀 View run at \u001b[34m\u001b[4mhttps://wandb.ai/mosesdaudu001/mlops-zoomcamp-wandb/runs/qskt6rf7\u001b[0m\n",
      "\u001b[34m\u001b[1mwandb\u001b[0m:   4 of 4 files downloaded.  \n"
     ]
    }
   ],
   "source": [
    "!python train.py --wandb_project mlops-zoomcamp-wandb --wandb_entity mosesdaudu001 --data_artifact mosesdaudu001/mlops-zoomcamp-wandb-notebook/NYC-Taxi:v0"
   ]
  },
  {
   "cell_type": "code",
   "execution_count": 7,
   "id": "09f6a9f5",
   "metadata": {},
   "outputs": [
    {
     "name": "stdout",
     "output_type": "stream",
     "text": [
      "Create sweep with ID: em0xy8ou\n",
      "Sweep URL: https://wandb.ai/mosesdaudu001/mlops-zoomcamp-wandb-notebook/sweeps/em0xy8ou\n",
      "\u001b[34m\u001b[1mwandb\u001b[0m: Agent Starting Run: dn5jnp0b with config:\n",
      "\u001b[34m\u001b[1mwandb\u001b[0m: \tmax_depth: 9\n",
      "\u001b[34m\u001b[1mwandb\u001b[0m: \tmin_samples_leaf: 2\n",
      "\u001b[34m\u001b[1mwandb\u001b[0m: \tmin_samples_split: 10\n",
      "\u001b[34m\u001b[1mwandb\u001b[0m: \tn_estimators: 21\n"
     ]
    },
    {
     "name": "stderr",
     "output_type": "stream",
     "text": [
      "wandb: Waiting for W&B process to finish... (success).\n",
      "wandb: Waiting for W&B process to finish... (success).\n"
     ]
    },
    {
     "name": "stdout",
     "output_type": "stream",
     "text": [
      "\u001b[34m\u001b[1mwandb\u001b[0m: Currently logged in as: \u001b[33mmosesdaudu001\u001b[0m. Use \u001b[1m`wandb login --relogin`\u001b[0m to force relogin\n",
      "\u001b[34m\u001b[1mwandb\u001b[0m: Tracking run with wandb version 0.15.3\n",
      "\u001b[34m\u001b[1mwandb\u001b[0m: Run data is saved locally in \u001b[35m\u001b[1m/home/moses/Documents/mlops-zoomcamp/week2/wandb/wandb/run-20230605_155332-dn5jnp0b\u001b[0m\n",
      "\u001b[34m\u001b[1mwandb\u001b[0m: Run \u001b[1m`wandb offline`\u001b[0m to turn off syncing.\n",
      "\u001b[34m\u001b[1mwandb\u001b[0m: Syncing run \u001b[33mfragrant-sweep-1\u001b[0m\n",
      "\u001b[34m\u001b[1mwandb\u001b[0m: ⭐️ View project at \u001b[34m\u001b[4mhttps://wandb.ai/mosesdaudu001/mlops-zoomcamp-wandb-notebook\u001b[0m\n",
      "\u001b[34m\u001b[1mwandb\u001b[0m: 🧹 View sweep at \u001b[34m\u001b[4mhttps://wandb.ai/mosesdaudu001/mlops-zoomcamp-wandb-notebook/sweeps/em0xy8ou\u001b[0m\n",
      "\u001b[34m\u001b[1mwandb\u001b[0m: 🚀 View run at \u001b[34m\u001b[4mhttps://wandb.ai/mosesdaudu001/mlops-zoomcamp-wandb-notebook/runs/dn5jnp0b\u001b[0m\n"
     ]
    },
    {
     "name": "stderr",
     "output_type": "stream",
     "text": [
      "wandb: 🚀 View run experimentv1 at: https://wandb.ai/moses-team/mlops-zoomcamp-wandb-notebook/runs/2s5iptez\n",
      "wandb: Synced 4 W&B file(s), 0 media file(s), 0 artifact file(s) and 0 other file(s)\n",
      "wandb: Find logs at: ./wandb/run-20230605_154930-2s5iptez/logs\n"
     ]
    },
    {
     "name": "stdout",
     "output_type": "stream",
     "text": [
      "\u001b[34m\u001b[1mwandb\u001b[0m:   4 of 4 files downloaded.  \r\n"
     ]
    },
    {
     "name": "stderr",
     "output_type": "stream",
     "text": [
      "wandb: \n",
      "wandb: Run history:\n",
      "wandb: MSE ▁\n",
      "wandb: \n",
      "wandb: Run summary:\n",
      "wandb: MSE 2.45398\n",
      "wandb: \n",
      "wandb: 🚀 View run flowing-grass-27 at: https://wandb.ai/mosesdaudu001/mlops-zoomcamp-wandb/runs/qskt6rf7\n",
      "wandb: Synced 5 W&B file(s), 0 media file(s), 0 artifact file(s) and 0 other file(s)\n",
      "wandb: Find logs at: ./wandb/run-20230605_155231-qskt6rf7/logs\n"
     ]
    },
    {
     "name": "stdout",
     "output_type": "stream",
     "text": [
      "\u001b[34m\u001b[1mwandb\u001b[0m: Waiting for W&B process to finish... \u001b[32m(success).\u001b[0m\n",
      "\u001b[34m\u001b[1mwandb\u001b[0m: \n",
      "\u001b[34m\u001b[1mwandb\u001b[0m: Run history:\n",
      "\u001b[34m\u001b[1mwandb\u001b[0m: MSE ▁\n",
      "\u001b[34m\u001b[1mwandb\u001b[0m: \n",
      "\u001b[34m\u001b[1mwandb\u001b[0m: Run summary:\n",
      "\u001b[34m\u001b[1mwandb\u001b[0m: MSE 2.45416\n",
      "\u001b[34m\u001b[1mwandb\u001b[0m: \n",
      "\u001b[34m\u001b[1mwandb\u001b[0m: 🚀 View run \u001b[33mfragrant-sweep-1\u001b[0m at: \u001b[34m\u001b[4mhttps://wandb.ai/mosesdaudu001/mlops-zoomcamp-wandb-notebook/runs/dn5jnp0b\u001b[0m\n",
      "\u001b[34m\u001b[1mwandb\u001b[0m: Synced 5 W&B file(s), 0 media file(s), 1 artifact file(s) and 0 other file(s)\n",
      "\u001b[34m\u001b[1mwandb\u001b[0m: Find logs at: \u001b[35m\u001b[1m./wandb/run-20230605_155332-dn5jnp0b/logs\u001b[0m\n"
     ]
    },
    {
     "name": "stderr",
     "output_type": "stream",
     "text": [
      "Exception in thread ChkStopThr:\n",
      "Traceback (most recent call last):\n",
      "  File \"/usr/lib/python3.10/threading.py\", line 1016, in _bootstrap_inner\n",
      "    self.run()\n",
      "  File \"/usr/lib/python3.10/threading.py\", line 953, in run\n",
      "    self._target(*self._args, **self._kwargs)\n",
      "  File \"/home/moses/Documents/Jupyter/notebookenv/lib/python3.10/site-packages/wandb/sdk/wandb_run.py\", line 278, in check_stop_status\n",
      "    self._loop_check_status(\n",
      "  File \"/home/moses/Documents/Jupyter/notebookenv/lib/python3.10/site-packages/wandb/sdk/wandb_run.py\", line 216, in _loop_check_status\n",
      "    local_handle = request()\n",
      "  File \"/home/moses/Documents/Jupyter/notebookenv/lib/python3.10/site-packages/wandb/sdk/interface/interface.py\", line 787, in deliver_stop_status\n",
      "Exception in thread NetStatThr:\n",
      "Traceback (most recent call last):\n",
      "  File \"/usr/lib/python3.10/threading.py\", line 1016, in _bootstrap_inner\n",
      "    return self._deliver_stop_status(status)\n",
      "  File \"/home/moses/Documents/Jupyter/notebookenv/lib/python3.10/site-packages/wandb/sdk/interface/interface_shared.py\", line 585, in _deliver_stop_status\n",
      "    self.run()\n",
      "  File \"/usr/lib/python3.10/threading.py\", line 953, in run\n",
      "        return self._deliver_record(record)self._target(*self._args, **self._kwargs)\n",
      "\n",
      "  File \"/home/moses/Documents/Jupyter/notebookenv/lib/python3.10/site-packages/wandb/sdk/interface/interface_shared.py\", line 560, in _deliver_record\n",
      "  File \"/home/moses/Documents/Jupyter/notebookenv/lib/python3.10/site-packages/wandb/sdk/wandb_run.py\", line 260, in check_network_status\n",
      "    self._loop_check_status(\n",
      "  File \"/home/moses/Documents/Jupyter/notebookenv/lib/python3.10/site-packages/wandb/sdk/wandb_run.py\", line 216, in _loop_check_status\n",
      "    handle = mailbox._deliver_record(record, interface=self)\n",
      "  File \"/home/moses/Documents/Jupyter/notebookenv/lib/python3.10/site-packages/wandb/sdk/lib/mailbox.py\", line 455, in _deliver_record\n",
      "    interface._publish(record)\n",
      "  File \"/home/moses/Documents/Jupyter/notebookenv/lib/python3.10/site-packages/wandb/sdk/interface/interface_sock.py\", line 51, in _publish\n",
      "    local_handle = request()\n",
      "  File \"/home/moses/Documents/Jupyter/notebookenv/lib/python3.10/site-packages/wandb/sdk/interface/interface.py\", line 795, in deliver_network_status\n",
      "    return self._deliver_network_status(status)\n",
      "  File \"/home/moses/Documents/Jupyter/notebookenv/lib/python3.10/site-packages/wandb/sdk/interface/interface_shared.py\", line 601, in _deliver_network_status\n",
      "    self._sock_client.send_record_publish(record)\n",
      "  File \"/home/moses/Documents/Jupyter/notebookenv/lib/python3.10/site-packages/wandb/sdk/lib/sock_client.py\", line 221, in send_record_publish\n",
      "    self.send_server_request(server_req)\n",
      "  File \"/home/moses/Documents/Jupyter/notebookenv/lib/python3.10/site-packages/wandb/sdk/lib/sock_client.py\", line 155, in send_server_request\n",
      "    return self._deliver_record(record)\n",
      "  File \"/home/moses/Documents/Jupyter/notebookenv/lib/python3.10/site-packages/wandb/sdk/interface/interface_shared.py\", line 560, in _deliver_record\n",
      "    handle = mailbox._deliver_record(record, interface=self)\n",
      "  File \"/home/moses/Documents/Jupyter/notebookenv/lib/python3.10/site-packages/wandb/sdk/lib/mailbox.py\", line 455, in _deliver_record\n",
      "    self._send_message(msg)\n",
      "  File \"/home/moses/Documents/Jupyter/notebookenv/lib/python3.10/site-packages/wandb/sdk/lib/sock_client.py\", line 152, in _send_message\n",
      "    self._sendall_with_error_handle(header + data)\n",
      "  File \"/home/moses/Documents/Jupyter/notebookenv/lib/python3.10/site-packages/wandb/sdk/lib/sock_client.py\", line 130, in _sendall_with_error_handle\n",
      "    interface._publish(record)\n",
      "  File \"/home/moses/Documents/Jupyter/notebookenv/lib/python3.10/site-packages/wandb/sdk/interface/interface_sock.py\", line 51, in _publish\n",
      "    sent = self._sock.send(data)\n",
      "BrokenPipeError: [Errno 32] Broken pipe\n",
      "    self._sock_client.send_record_publish(record)\n",
      "  File \"/home/moses/Documents/Jupyter/notebookenv/lib/python3.10/site-packages/wandb/sdk/lib/sock_client.py\", line 221, in send_record_publish\n",
      "    self.send_server_request(server_req)\n",
      "  File \"/home/moses/Documents/Jupyter/notebookenv/lib/python3.10/site-packages/wandb/sdk/lib/sock_client.py\", line 155, in send_server_request\n",
      "    self._send_message(msg)\n",
      "  File \"/home/moses/Documents/Jupyter/notebookenv/lib/python3.10/site-packages/wandb/sdk/lib/sock_client.py\", line 152, in _send_message\n",
      "    self._sendall_with_error_handle(header + data)\n",
      "  File \"/home/moses/Documents/Jupyter/notebookenv/lib/python3.10/site-packages/wandb/sdk/lib/sock_client.py\", line 130, in _sendall_with_error_handle\n",
      "    sent = self._sock.send(data)\n",
      "BrokenPipeError: [Errno 32] Broken pipe\n"
     ]
    },
    {
     "name": "stdout",
     "output_type": "stream",
     "text": [
      "\u001b[34m\u001b[1mwandb\u001b[0m: Agent Starting Run: 6yqtlsev with config:\n",
      "\u001b[34m\u001b[1mwandb\u001b[0m: \tmax_depth: 13\n",
      "\u001b[34m\u001b[1mwandb\u001b[0m: \tmin_samples_leaf: 4\n",
      "\u001b[34m\u001b[1mwandb\u001b[0m: \tmin_samples_split: 10\n",
      "\u001b[34m\u001b[1mwandb\u001b[0m: \tn_estimators: 29\n",
      "\u001b[34m\u001b[1mwandb\u001b[0m: Tracking run with wandb version 0.15.3\n",
      "\u001b[34m\u001b[1mwandb\u001b[0m: Run data is saved locally in \u001b[35m\u001b[1m/home/moses/Documents/mlops-zoomcamp/week2/wandb/wandb/run-20230605_155354-6yqtlsev\u001b[0m\n",
      "\u001b[34m\u001b[1mwandb\u001b[0m: Run \u001b[1m`wandb offline`\u001b[0m to turn off syncing.\n",
      "\u001b[34m\u001b[1mwandb\u001b[0m: Syncing run \u001b[33mcomic-sweep-2\u001b[0m\n",
      "\u001b[34m\u001b[1mwandb\u001b[0m: ⭐️ View project at \u001b[34m\u001b[4mhttps://wandb.ai/mosesdaudu001/mlops-zoomcamp-wandb-notebook\u001b[0m\n",
      "\u001b[34m\u001b[1mwandb\u001b[0m: 🧹 View sweep at \u001b[34m\u001b[4mhttps://wandb.ai/mosesdaudu001/mlops-zoomcamp-wandb-notebook/sweeps/em0xy8ou\u001b[0m\n",
      "\u001b[34m\u001b[1mwandb\u001b[0m: 🚀 View run at \u001b[34m\u001b[4mhttps://wandb.ai/mosesdaudu001/mlops-zoomcamp-wandb-notebook/runs/6yqtlsev\u001b[0m\n",
      "\u001b[34m\u001b[1mwandb\u001b[0m:   4 of 4 files downloaded.  \n",
      "\u001b[34m\u001b[1mwandb\u001b[0m: Waiting for W&B process to finish... \u001b[32m(success).\u001b[0m\n",
      "\u001b[34m\u001b[1mwandb\u001b[0m: \n",
      "\u001b[34m\u001b[1mwandb\u001b[0m: Run history:\n",
      "\u001b[34m\u001b[1mwandb\u001b[0m: MSE ▁\n",
      "\u001b[34m\u001b[1mwandb\u001b[0m: \n",
      "\u001b[34m\u001b[1mwandb\u001b[0m: Run summary:\n",
      "\u001b[34m\u001b[1mwandb\u001b[0m: MSE 2.44838\n",
      "\u001b[34m\u001b[1mwandb\u001b[0m: \n",
      "\u001b[34m\u001b[1mwandb\u001b[0m: 🚀 View run \u001b[33mcomic-sweep-2\u001b[0m at: \u001b[34m\u001b[4mhttps://wandb.ai/mosesdaudu001/mlops-zoomcamp-wandb-notebook/runs/6yqtlsev\u001b[0m\n",
      "\u001b[34m\u001b[1mwandb\u001b[0m: Synced 5 W&B file(s), 0 media file(s), 1 artifact file(s) and 0 other file(s)\n",
      "\u001b[34m\u001b[1mwandb\u001b[0m: Find logs at: \u001b[35m\u001b[1m./wandb/run-20230605_155354-6yqtlsev/logs\u001b[0m\n",
      "\u001b[34m\u001b[1mwandb\u001b[0m: Agent Starting Run: 4uowwrlc with config:\n",
      "\u001b[34m\u001b[1mwandb\u001b[0m: \tmax_depth: 6\n",
      "\u001b[34m\u001b[1mwandb\u001b[0m: \tmin_samples_leaf: 4\n",
      "\u001b[34m\u001b[1mwandb\u001b[0m: \tmin_samples_split: 3\n",
      "\u001b[34m\u001b[1mwandb\u001b[0m: \tn_estimators: 18\n",
      "\u001b[34m\u001b[1mwandb\u001b[0m: Tracking run with wandb version 0.15.3\n",
      "\u001b[34m\u001b[1mwandb\u001b[0m: Run data is saved locally in \u001b[35m\u001b[1m/home/moses/Documents/mlops-zoomcamp/week2/wandb/wandb/run-20230605_155430-4uowwrlc\u001b[0m\n",
      "\u001b[34m\u001b[1mwandb\u001b[0m: Run \u001b[1m`wandb offline`\u001b[0m to turn off syncing.\n",
      "\u001b[34m\u001b[1mwandb\u001b[0m: Syncing run \u001b[33micy-sweep-3\u001b[0m\n",
      "\u001b[34m\u001b[1mwandb\u001b[0m: ⭐️ View project at \u001b[34m\u001b[4mhttps://wandb.ai/mosesdaudu001/mlops-zoomcamp-wandb-notebook\u001b[0m\n",
      "\u001b[34m\u001b[1mwandb\u001b[0m: 🧹 View sweep at \u001b[34m\u001b[4mhttps://wandb.ai/mosesdaudu001/mlops-zoomcamp-wandb-notebook/sweeps/em0xy8ou\u001b[0m\n",
      "\u001b[34m\u001b[1mwandb\u001b[0m: 🚀 View run at \u001b[34m\u001b[4mhttps://wandb.ai/mosesdaudu001/mlops-zoomcamp-wandb-notebook/runs/4uowwrlc\u001b[0m\n",
      "\u001b[34m\u001b[1mwandb\u001b[0m:   4 of 4 files downloaded.  \n",
      "\u001b[34m\u001b[1mwandb\u001b[0m: Waiting for W&B process to finish... \u001b[32m(success).\u001b[0m\n",
      "\u001b[34m\u001b[1mwandb\u001b[0m: \n",
      "\u001b[34m\u001b[1mwandb\u001b[0m: Run history:\n",
      "\u001b[34m\u001b[1mwandb\u001b[0m: MSE ▁\n",
      "\u001b[34m\u001b[1mwandb\u001b[0m: \n",
      "\u001b[34m\u001b[1mwandb\u001b[0m: Run summary:\n",
      "\u001b[34m\u001b[1mwandb\u001b[0m: MSE 2.45819\n",
      "\u001b[34m\u001b[1mwandb\u001b[0m: \n",
      "\u001b[34m\u001b[1mwandb\u001b[0m: 🚀 View run \u001b[33micy-sweep-3\u001b[0m at: \u001b[34m\u001b[4mhttps://wandb.ai/mosesdaudu001/mlops-zoomcamp-wandb-notebook/runs/4uowwrlc\u001b[0m\n",
      "\u001b[34m\u001b[1mwandb\u001b[0m: Synced 5 W&B file(s), 0 media file(s), 1 artifact file(s) and 0 other file(s)\n",
      "\u001b[34m\u001b[1mwandb\u001b[0m: Find logs at: \u001b[35m\u001b[1m./wandb/run-20230605_155430-4uowwrlc/logs\u001b[0m\n",
      "\u001b[34m\u001b[1mwandb\u001b[0m: Agent Starting Run: kyika6ot with config:\n",
      "\u001b[34m\u001b[1mwandb\u001b[0m: \tmax_depth: 11\n",
      "\u001b[34m\u001b[1mwandb\u001b[0m: \tmin_samples_leaf: 4\n",
      "\u001b[34m\u001b[1mwandb\u001b[0m: \tmin_samples_split: 9\n",
      "\u001b[34m\u001b[1mwandb\u001b[0m: \tn_estimators: 30\n",
      "\u001b[34m\u001b[1mwandb\u001b[0m: Tracking run with wandb version 0.15.3\n",
      "\u001b[34m\u001b[1mwandb\u001b[0m: Run data is saved locally in \u001b[35m\u001b[1m/home/moses/Documents/mlops-zoomcamp/week2/wandb/wandb/run-20230605_155455-kyika6ot\u001b[0m\n",
      "\u001b[34m\u001b[1mwandb\u001b[0m: Run \u001b[1m`wandb offline`\u001b[0m to turn off syncing.\n",
      "\u001b[34m\u001b[1mwandb\u001b[0m: Syncing run \u001b[33mdulcet-sweep-4\u001b[0m\n",
      "\u001b[34m\u001b[1mwandb\u001b[0m: ⭐️ View project at \u001b[34m\u001b[4mhttps://wandb.ai/mosesdaudu001/mlops-zoomcamp-wandb-notebook\u001b[0m\n",
      "\u001b[34m\u001b[1mwandb\u001b[0m: 🧹 View sweep at \u001b[34m\u001b[4mhttps://wandb.ai/mosesdaudu001/mlops-zoomcamp-wandb-notebook/sweeps/em0xy8ou\u001b[0m\n",
      "\u001b[34m\u001b[1mwandb\u001b[0m: 🚀 View run at \u001b[34m\u001b[4mhttps://wandb.ai/mosesdaudu001/mlops-zoomcamp-wandb-notebook/runs/kyika6ot\u001b[0m\n",
      "\u001b[34m\u001b[1mwandb\u001b[0m:   4 of 4 files downloaded.  \n",
      "\u001b[34m\u001b[1mwandb\u001b[0m: Waiting for W&B process to finish... \u001b[32m(success).\u001b[0m\n",
      "\u001b[34m\u001b[1mwandb\u001b[0m: \n",
      "\u001b[34m\u001b[1mwandb\u001b[0m: Run history:\n",
      "\u001b[34m\u001b[1mwandb\u001b[0m: MSE ▁\n",
      "\u001b[34m\u001b[1mwandb\u001b[0m: \n",
      "\u001b[34m\u001b[1mwandb\u001b[0m: Run summary:\n",
      "\u001b[34m\u001b[1mwandb\u001b[0m: MSE 2.44853\n",
      "\u001b[34m\u001b[1mwandb\u001b[0m: \n",
      "\u001b[34m\u001b[1mwandb\u001b[0m: 🚀 View run \u001b[33mdulcet-sweep-4\u001b[0m at: \u001b[34m\u001b[4mhttps://wandb.ai/mosesdaudu001/mlops-zoomcamp-wandb-notebook/runs/kyika6ot\u001b[0m\n",
      "\u001b[34m\u001b[1mwandb\u001b[0m: Synced 5 W&B file(s), 0 media file(s), 1 artifact file(s) and 0 other file(s)\n",
      "\u001b[34m\u001b[1mwandb\u001b[0m: Find logs at: \u001b[35m\u001b[1m./wandb/run-20230605_155455-kyika6ot/logs\u001b[0m\n",
      "\u001b[34m\u001b[1mwandb\u001b[0m: Agent Starting Run: 35afl7xh with config:\n",
      "\u001b[34m\u001b[1mwandb\u001b[0m: \tmax_depth: 16\n",
      "\u001b[34m\u001b[1mwandb\u001b[0m: \tmin_samples_leaf: 4\n",
      "\u001b[34m\u001b[1mwandb\u001b[0m: \tmin_samples_split: 10\n",
      "\u001b[34m\u001b[1mwandb\u001b[0m: \tn_estimators: 40\n",
      "\u001b[34m\u001b[1mwandb\u001b[0m: Tracking run with wandb version 0.15.3\n",
      "\u001b[34m\u001b[1mwandb\u001b[0m: Run data is saved locally in \u001b[35m\u001b[1m/home/moses/Documents/mlops-zoomcamp/week2/wandb/wandb/run-20230605_155519-35afl7xh\u001b[0m\n",
      "\u001b[34m\u001b[1mwandb\u001b[0m: Run \u001b[1m`wandb offline`\u001b[0m to turn off syncing.\n",
      "\u001b[34m\u001b[1mwandb\u001b[0m: Syncing run \u001b[33mworthy-sweep-5\u001b[0m\n",
      "\u001b[34m\u001b[1mwandb\u001b[0m: ⭐️ View project at \u001b[34m\u001b[4mhttps://wandb.ai/mosesdaudu001/mlops-zoomcamp-wandb-notebook\u001b[0m\n",
      "\u001b[34m\u001b[1mwandb\u001b[0m: 🧹 View sweep at \u001b[34m\u001b[4mhttps://wandb.ai/mosesdaudu001/mlops-zoomcamp-wandb-notebook/sweeps/em0xy8ou\u001b[0m\n",
      "\u001b[34m\u001b[1mwandb\u001b[0m: 🚀 View run at \u001b[34m\u001b[4mhttps://wandb.ai/mosesdaudu001/mlops-zoomcamp-wandb-notebook/runs/35afl7xh\u001b[0m\n",
      "\u001b[34m\u001b[1mwandb\u001b[0m:   4 of 4 files downloaded.  \n",
      "\u001b[34m\u001b[1mwandb\u001b[0m: Waiting for W&B process to finish... \u001b[32m(success).\u001b[0m\n",
      "\u001b[34m\u001b[1mwandb\u001b[0m: \n",
      "\u001b[34m\u001b[1mwandb\u001b[0m: Run history:\n",
      "\u001b[34m\u001b[1mwandb\u001b[0m: MSE ▁\n",
      "\u001b[34m\u001b[1mwandb\u001b[0m: \n",
      "\u001b[34m\u001b[1mwandb\u001b[0m: Run summary:\n",
      "\u001b[34m\u001b[1mwandb\u001b[0m: MSE 2.44763\n",
      "\u001b[34m\u001b[1mwandb\u001b[0m: \n",
      "\u001b[34m\u001b[1mwandb\u001b[0m: 🚀 View run \u001b[33mworthy-sweep-5\u001b[0m at: \u001b[34m\u001b[4mhttps://wandb.ai/mosesdaudu001/mlops-zoomcamp-wandb-notebook/runs/35afl7xh\u001b[0m\n",
      "\u001b[34m\u001b[1mwandb\u001b[0m: Synced 5 W&B file(s), 0 media file(s), 1 artifact file(s) and 0 other file(s)\n",
      "\u001b[34m\u001b[1mwandb\u001b[0m: Find logs at: \u001b[35m\u001b[1m./wandb/run-20230605_155519-35afl7xh/logs\u001b[0m\n",
      "Error in callback <function _WandbInit._pause_backend at 0x7ff403757130> (for post_run_cell):\n"
     ]
    },
    {
     "ename": "BrokenPipeError",
     "evalue": "[Errno 32] Broken pipe",
     "output_type": "error",
     "traceback": [
      "\u001b[0;31m---------------------------------------------------------------------------\u001b[0m",
      "\u001b[0;31mBrokenPipeError\u001b[0m                           Traceback (most recent call last)",
      "File \u001b[0;32m~/Documents/Jupyter/notebookenv/lib/python3.10/site-packages/backcall/backcall.py:104\u001b[0m, in \u001b[0;36mcallback_prototype.<locals>.adapt.<locals>.adapted\u001b[0;34m(*args, **kwargs)\u001b[0m\n\u001b[1;32m    102\u001b[0m                 kwargs\u001b[38;5;241m.\u001b[39mpop(name)\n\u001b[1;32m    103\u001b[0m \u001b[38;5;66;03m#            print(args, kwargs, unmatched_pos, cut_positional, unmatched_kw)\u001b[39;00m\n\u001b[0;32m--> 104\u001b[0m             \u001b[38;5;28;01mreturn\u001b[39;00m \u001b[43mcallback\u001b[49m\u001b[43m(\u001b[49m\u001b[38;5;241;43m*\u001b[39;49m\u001b[43margs\u001b[49m\u001b[43m,\u001b[49m\u001b[43m \u001b[49m\u001b[38;5;241;43m*\u001b[39;49m\u001b[38;5;241;43m*\u001b[39;49m\u001b[43mkwargs\u001b[49m\u001b[43m)\u001b[49m\n",
      "File \u001b[0;32m~/Documents/Jupyter/notebookenv/lib/python3.10/site-packages/wandb/sdk/wandb_init.py:419\u001b[0m, in \u001b[0;36m_WandbInit._pause_backend\u001b[0;34m(self)\u001b[0m\n\u001b[1;32m    417\u001b[0m \u001b[38;5;28;01mif\u001b[39;00m \u001b[38;5;28mself\u001b[39m\u001b[38;5;241m.\u001b[39mbackend\u001b[38;5;241m.\u001b[39minterface \u001b[38;5;129;01mis\u001b[39;00m \u001b[38;5;129;01mnot\u001b[39;00m \u001b[38;5;28;01mNone\u001b[39;00m:\n\u001b[1;32m    418\u001b[0m     logger\u001b[38;5;241m.\u001b[39minfo(\u001b[38;5;124m\"\u001b[39m\u001b[38;5;124mpausing backend\u001b[39m\u001b[38;5;124m\"\u001b[39m)  \u001b[38;5;66;03m# type: ignore\u001b[39;00m\n\u001b[0;32m--> 419\u001b[0m     \u001b[38;5;28;43mself\u001b[39;49m\u001b[38;5;241;43m.\u001b[39;49m\u001b[43mbackend\u001b[49m\u001b[38;5;241;43m.\u001b[39;49m\u001b[43minterface\u001b[49m\u001b[38;5;241;43m.\u001b[39;49m\u001b[43mpublish_pause\u001b[49m\u001b[43m(\u001b[49m\u001b[43m)\u001b[49m\n",
      "File \u001b[0;32m~/Documents/Jupyter/notebookenv/lib/python3.10/site-packages/wandb/sdk/interface/interface.py:665\u001b[0m, in \u001b[0;36mInterfaceBase.publish_pause\u001b[0;34m(self)\u001b[0m\n\u001b[1;32m    663\u001b[0m \u001b[38;5;28;01mdef\u001b[39;00m \u001b[38;5;21mpublish_pause\u001b[39m(\u001b[38;5;28mself\u001b[39m) \u001b[38;5;241m-\u001b[39m\u001b[38;5;241m>\u001b[39m \u001b[38;5;28;01mNone\u001b[39;00m:\n\u001b[1;32m    664\u001b[0m     pause \u001b[38;5;241m=\u001b[39m pb\u001b[38;5;241m.\u001b[39mPauseRequest()\n\u001b[0;32m--> 665\u001b[0m     \u001b[38;5;28;43mself\u001b[39;49m\u001b[38;5;241;43m.\u001b[39;49m\u001b[43m_publish_pause\u001b[49m\u001b[43m(\u001b[49m\u001b[43mpause\u001b[49m\u001b[43m)\u001b[49m\n",
      "File \u001b[0;32m~/Documents/Jupyter/notebookenv/lib/python3.10/site-packages/wandb/sdk/interface/interface_shared.py:340\u001b[0m, in \u001b[0;36mInterfaceShared._publish_pause\u001b[0;34m(self, pause)\u001b[0m\n\u001b[1;32m    338\u001b[0m \u001b[38;5;28;01mdef\u001b[39;00m \u001b[38;5;21m_publish_pause\u001b[39m(\u001b[38;5;28mself\u001b[39m, pause: pb\u001b[38;5;241m.\u001b[39mPauseRequest) \u001b[38;5;241m-\u001b[39m\u001b[38;5;241m>\u001b[39m \u001b[38;5;28;01mNone\u001b[39;00m:\n\u001b[1;32m    339\u001b[0m     rec \u001b[38;5;241m=\u001b[39m \u001b[38;5;28mself\u001b[39m\u001b[38;5;241m.\u001b[39m_make_request(pause\u001b[38;5;241m=\u001b[39mpause)\n\u001b[0;32m--> 340\u001b[0m     \u001b[38;5;28;43mself\u001b[39;49m\u001b[38;5;241;43m.\u001b[39;49m\u001b[43m_publish\u001b[49m\u001b[43m(\u001b[49m\u001b[43mrec\u001b[49m\u001b[43m)\u001b[49m\n",
      "File \u001b[0;32m~/Documents/Jupyter/notebookenv/lib/python3.10/site-packages/wandb/sdk/interface/interface_sock.py:51\u001b[0m, in \u001b[0;36mInterfaceSock._publish\u001b[0;34m(self, record, local)\u001b[0m\n\u001b[1;32m     49\u001b[0m \u001b[38;5;28;01mdef\u001b[39;00m \u001b[38;5;21m_publish\u001b[39m(\u001b[38;5;28mself\u001b[39m, record: \u001b[38;5;124m\"\u001b[39m\u001b[38;5;124mpb.Record\u001b[39m\u001b[38;5;124m\"\u001b[39m, local: Optional[\u001b[38;5;28mbool\u001b[39m] \u001b[38;5;241m=\u001b[39m \u001b[38;5;28;01mNone\u001b[39;00m) \u001b[38;5;241m-\u001b[39m\u001b[38;5;241m>\u001b[39m \u001b[38;5;28;01mNone\u001b[39;00m:\n\u001b[1;32m     50\u001b[0m     \u001b[38;5;28mself\u001b[39m\u001b[38;5;241m.\u001b[39m_assign(record)\n\u001b[0;32m---> 51\u001b[0m     \u001b[38;5;28;43mself\u001b[39;49m\u001b[38;5;241;43m.\u001b[39;49m\u001b[43m_sock_client\u001b[49m\u001b[38;5;241;43m.\u001b[39;49m\u001b[43msend_record_publish\u001b[49m\u001b[43m(\u001b[49m\u001b[43mrecord\u001b[49m\u001b[43m)\u001b[49m\n",
      "File \u001b[0;32m~/Documents/Jupyter/notebookenv/lib/python3.10/site-packages/wandb/sdk/lib/sock_client.py:221\u001b[0m, in \u001b[0;36mSockClient.send_record_publish\u001b[0;34m(self, record)\u001b[0m\n\u001b[1;32m    219\u001b[0m server_req \u001b[38;5;241m=\u001b[39m spb\u001b[38;5;241m.\u001b[39mServerRequest()\n\u001b[1;32m    220\u001b[0m server_req\u001b[38;5;241m.\u001b[39mrecord_publish\u001b[38;5;241m.\u001b[39mCopyFrom(record)\n\u001b[0;32m--> 221\u001b[0m \u001b[38;5;28;43mself\u001b[39;49m\u001b[38;5;241;43m.\u001b[39;49m\u001b[43msend_server_request\u001b[49m\u001b[43m(\u001b[49m\u001b[43mserver_req\u001b[49m\u001b[43m)\u001b[49m\n",
      "File \u001b[0;32m~/Documents/Jupyter/notebookenv/lib/python3.10/site-packages/wandb/sdk/lib/sock_client.py:155\u001b[0m, in \u001b[0;36mSockClient.send_server_request\u001b[0;34m(self, msg)\u001b[0m\n\u001b[1;32m    154\u001b[0m \u001b[38;5;28;01mdef\u001b[39;00m \u001b[38;5;21msend_server_request\u001b[39m(\u001b[38;5;28mself\u001b[39m, msg: Any) \u001b[38;5;241m-\u001b[39m\u001b[38;5;241m>\u001b[39m \u001b[38;5;28;01mNone\u001b[39;00m:\n\u001b[0;32m--> 155\u001b[0m     \u001b[38;5;28;43mself\u001b[39;49m\u001b[38;5;241;43m.\u001b[39;49m\u001b[43m_send_message\u001b[49m\u001b[43m(\u001b[49m\u001b[43mmsg\u001b[49m\u001b[43m)\u001b[49m\n",
      "File \u001b[0;32m~/Documents/Jupyter/notebookenv/lib/python3.10/site-packages/wandb/sdk/lib/sock_client.py:152\u001b[0m, in \u001b[0;36mSockClient._send_message\u001b[0;34m(self, msg)\u001b[0m\n\u001b[1;32m    150\u001b[0m header \u001b[38;5;241m=\u001b[39m struct\u001b[38;5;241m.\u001b[39mpack(\u001b[38;5;124m\"\u001b[39m\u001b[38;5;124m<BI\u001b[39m\u001b[38;5;124m\"\u001b[39m, \u001b[38;5;28mord\u001b[39m(\u001b[38;5;124m\"\u001b[39m\u001b[38;5;124mW\u001b[39m\u001b[38;5;124m\"\u001b[39m), raw_size)\n\u001b[1;32m    151\u001b[0m \u001b[38;5;28;01mwith\u001b[39;00m \u001b[38;5;28mself\u001b[39m\u001b[38;5;241m.\u001b[39m_lock:\n\u001b[0;32m--> 152\u001b[0m     \u001b[38;5;28;43mself\u001b[39;49m\u001b[38;5;241;43m.\u001b[39;49m\u001b[43m_sendall_with_error_handle\u001b[49m\u001b[43m(\u001b[49m\u001b[43mheader\u001b[49m\u001b[43m \u001b[49m\u001b[38;5;241;43m+\u001b[39;49m\u001b[43m \u001b[49m\u001b[43mdata\u001b[49m\u001b[43m)\u001b[49m\n",
      "File \u001b[0;32m~/Documents/Jupyter/notebookenv/lib/python3.10/site-packages/wandb/sdk/lib/sock_client.py:130\u001b[0m, in \u001b[0;36mSockClient._sendall_with_error_handle\u001b[0;34m(self, data)\u001b[0m\n\u001b[1;32m    128\u001b[0m start_time \u001b[38;5;241m=\u001b[39m time\u001b[38;5;241m.\u001b[39mmonotonic()\n\u001b[1;32m    129\u001b[0m \u001b[38;5;28;01mtry\u001b[39;00m:\n\u001b[0;32m--> 130\u001b[0m     sent \u001b[38;5;241m=\u001b[39m \u001b[38;5;28;43mself\u001b[39;49m\u001b[38;5;241;43m.\u001b[39;49m\u001b[43m_sock\u001b[49m\u001b[38;5;241;43m.\u001b[39;49m\u001b[43msend\u001b[49m\u001b[43m(\u001b[49m\u001b[43mdata\u001b[49m\u001b[43m)\u001b[49m\n\u001b[1;32m    131\u001b[0m     \u001b[38;5;66;03m# sent equal to 0 indicates a closed socket\u001b[39;00m\n\u001b[1;32m    132\u001b[0m     \u001b[38;5;28;01mif\u001b[39;00m sent \u001b[38;5;241m==\u001b[39m \u001b[38;5;241m0\u001b[39m:\n",
      "\u001b[0;31mBrokenPipeError\u001b[0m: [Errno 32] Broken pipe"
     ]
    }
   ],
   "source": [
    "!python sweep.py --wandb_project mlops-zoomcamp-wandb-notebook --wandb_entity mosesdaudu001 --data_artifact mosesdaudu001/mlops-zoomcamp-wandb-notebook/NYC-Taxi:v0"
   ]
  },
  {
   "cell_type": "code",
   "execution_count": null,
   "id": "6d8ea614",
   "metadata": {},
   "outputs": [],
   "source": []
  }
 ],
 "metadata": {
  "kernelspec": {
   "display_name": "Python 3 (ipykernel)",
   "language": "python",
   "name": "python3"
  },
  "language_info": {
   "codemirror_mode": {
    "name": "ipython",
    "version": 3
   },
   "file_extension": ".py",
   "mimetype": "text/x-python",
   "name": "python",
   "nbconvert_exporter": "python",
   "pygments_lexer": "ipython3",
   "version": "3.10.6"
  }
 },
 "nbformat": 4,
 "nbformat_minor": 5
}
