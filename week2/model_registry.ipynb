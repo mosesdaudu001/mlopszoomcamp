{
 "cells": [
  {
   "cell_type": "code",
   "execution_count": 5,
   "id": "abdb9402",
   "metadata": {},
   "outputs": [],
   "source": [
    "from mlflow.tracking import MlflowClient"
   ]
  },
  {
   "cell_type": "code",
   "execution_count": 20,
   "id": "e41f8345",
   "metadata": {},
   "outputs": [],
   "source": [
    "MLFLOW_TRACKING_URI= 'sqlite:///mlflow.db'\n",
    "\n",
    "client = MlflowClient(tracking_uri=MLFLOW_TRACKING_URI)"
   ]
  },
  {
   "cell_type": "code",
   "execution_count": 21,
   "id": "c913fec0",
   "metadata": {},
   "outputs": [
    {
     "name": "stdout",
     "output_type": "stream",
     "text": [
      "<Experiment: artifact_location='/home/moses/Documents/mlops-zoomcamp/week2/model_artifacts/2', creation_time=1685345328160, experiment_id='2', last_update_time=1685345328160, lifecycle_stage='active', name='random-forest-hyperopt', tags={}>\n"
     ]
    }
   ],
   "source": [
    "# # To create new experiments\n",
    "# client.create_experiment(name='my_cool_exp')\n",
    "experiment=client.get_experiment_by_name('random-forest-hyperopt')\n",
    "print(experiment)"
   ]
  },
  {
   "cell_type": "code",
   "execution_count": 47,
   "id": "406b76b3",
   "metadata": {},
   "outputs": [],
   "source": [
    "from mlflow.entities import ViewType\n",
    "\n",
    "# To search for the number of runs in an experiment aswell as the info\n",
    "runs=client.search_runs(experiment_ids=experiment.experiment_id, \n",
    "                        filter_string='', \n",
    "                        run_view_type=ViewType.ACTIVE_ONLY, \n",
    "                        max_results=5, \n",
    "                        order_by=['metrics.Rmse ASC'])\n",
    "\n",
    "# To search for the number of runs in an experiment aswell as the info\n",
    "best_run=client.search_runs(experiment_ids=experiment.experiment_id, \n",
    "                        filter_string='', \n",
    "                        run_view_type=ViewType.ACTIVE_ONLY, \n",
    "                        max_results=5, \n",
    "                        order_by=['metrics.Rmse ASC'])[0]"
   ]
  },
  {
   "cell_type": "code",
   "execution_count": 48,
   "id": "fcdc4620",
   "metadata": {},
   "outputs": [
    {
     "name": "stdout",
     "output_type": "stream",
     "text": [
      "run id: 54365af48150420e82f5e43b57888cf4, rmse: 2.4498\n",
      "run id: 2f85528a970e465c9dffd7711310a986, rmse: 2.4514\n",
      "run id: 13893dd6aa9543d1a180824266fd06e6, rmse: 2.4516\n",
      "run id: b4d2a64cb264444e97aa1b8ca2bff051, rmse: 2.4539\n",
      "run id: 8c82dc87ceda4129a4185fc8690d7563, rmse: 2.4560\n"
     ]
    }
   ],
   "source": [
    "for run in runs:\n",
    "    print(f\"run id: {run.info.run_id}, rmse: {run.data.metrics['Rmse']:.4f}\")"
   ]
  },
  {
   "cell_type": "code",
   "execution_count": 50,
   "id": "38cd8d94",
   "metadata": {},
   "outputs": [
    {
     "name": "stdout",
     "output_type": "stream",
     "text": [
      "54365af48150420e82f5e43b57888cf4\n"
     ]
    }
   ],
   "source": [
    "run_id = best_run.info.run_id\n",
    "print(run_id)"
   ]
  },
  {
   "cell_type": "code",
   "execution_count": 10,
   "id": "decbbcd0",
   "metadata": {},
   "outputs": [],
   "source": [
    "# Promoting the models to the registry\n",
    "\n",
    "import mlflow\n",
    "mlflow.set_tracking_uri(MLFLOW_TRACKING_URI)"
   ]
  },
  {
   "cell_type": "code",
   "execution_count": 15,
   "id": "e271ca2d",
   "metadata": {},
   "outputs": [
    {
     "name": "stderr",
     "output_type": "stream",
     "text": [
      "Registered model 'nycxgb-regressor' already exists. Creating a new version of this model...\n",
      "2023/05/24 13:35:49 INFO mlflow.tracking._model_registry.client: Waiting up to 300 seconds for model version to finish creation. Model name: nycxgb-regressor, version 3\n",
      "Created version '3' of model 'nycxgb-regressor'.\n"
     ]
    },
    {
     "data": {
      "text/plain": [
       "<ModelVersion: aliases=[], creation_timestamp=1684931749116, current_stage='None', description=None, last_updated_timestamp=1684931749116, name='nycxgb-regressor', run_id='3a2ad3288e994c65b5ca8fe7601cf126', run_link=None, source='/home/moses/Documents/mlops-zoomcamp/week2/mlruns/1/3a2ad3288e994c65b5ca8fe7601cf126/artifacts/model', status='READY', status_message=None, tags={}, user_id=None, version=3>"
      ]
     },
     "execution_count": 15,
     "metadata": {},
     "output_type": "execute_result"
    }
   ],
   "source": [
    "run_id = 'runs:/3a2ad3288e994c65b5ca8fe7601cf126/model'\n",
    "mod_uri='runs:/{run_id}/model'\n",
    "\n",
    "mlflow.register_model(model_uri=run_id, name='nycxgb-regressor')"
   ]
  },
  {
   "cell_type": "code",
   "execution_count": 24,
   "id": "40c3d54a",
   "metadata": {},
   "outputs": [
    {
     "name": "stdout",
     "output_type": "stream",
     "text": [
      "Version:2, Stage: Staging\n",
      "Version:3, Stage: Production\n"
     ]
    }
   ],
   "source": [
    "## TO tansition the models\n",
    "latest_version=client.get_latest_versions(name='nycxgb-regressor')\n",
    "\n",
    "for version in latest_version:\n",
    "    print(f\"Version:{version.version}, Stage: {version.current_stage}\")"
   ]
  },
  {
   "cell_type": "code",
   "execution_count": 19,
   "id": "ace72f58",
   "metadata": {},
   "outputs": [
    {
     "data": {
      "text/plain": [
       "<ModelVersion: aliases=[], creation_timestamp=1684931749116, current_stage='Staging', description=None, last_updated_timestamp=1684933222250, name='nycxgb-regressor', run_id='3a2ad3288e994c65b5ca8fe7601cf126', run_link=None, source='/home/moses/Documents/mlops-zoomcamp/week2/mlruns/1/3a2ad3288e994c65b5ca8fe7601cf126/artifacts/model', status='READY', status_message=None, tags={}, user_id=None, version=3>"
      ]
     },
     "execution_count": 19,
     "metadata": {},
     "output_type": "execute_result"
    }
   ],
   "source": [
    "client.transition_model_version_stage(name='nycxgb-regressor', \n",
    "                                      version=3, stage='staging', \n",
    "                                      archive_existing_versions=False)"
   ]
  },
  {
   "cell_type": "code",
   "execution_count": 21,
   "id": "9bd4fe30",
   "metadata": {},
   "outputs": [
    {
     "data": {
      "text/plain": [
       "<ModelVersion: aliases=[], creation_timestamp=1684931749116, current_stage='Staging', description=('The model version <ModelVersion: aliases=[], '\n",
       " \"creation_timestamp=1684931749116, current_stage='None', description=None, \"\n",
       " \"last_updated_timestamp=1684931749116, name='nycxgb-regressor', \"\n",
       " \"run_id='3a2ad3288e994c65b5ca8fe7601cf126', run_link=None, \"\n",
       " \"source='/home/moses/Documents/mlops-zoomcamp/week2/mlruns/1/3a2ad3288e994c65b5ca8fe7601cf126/artifacts/model', \"\n",
       " \"status='READY', status_message=None, tags={}, user_id=None, version=3> was \"\n",
       " 'transmitted to stagging'), last_updated_timestamp=1684933529187, name='nycxgb-regressor', run_id='3a2ad3288e994c65b5ca8fe7601cf126', run_link=None, source='/home/moses/Documents/mlops-zoomcamp/week2/mlruns/1/3a2ad3288e994c65b5ca8fe7601cf126/artifacts/model', status='READY', status_message=None, tags={}, user_id=None, version=3>"
      ]
     },
     "execution_count": 21,
     "metadata": {},
     "output_type": "execute_result"
    }
   ],
   "source": [
    "## To annotate the model\n",
    "\n",
    "client.update_model_version(name='nycxgb-regressor', \n",
    "                            version=3, \n",
    "                            description=f\"The model version {version} was transmitted to stagging\")"
   ]
  },
  {
   "cell_type": "code",
   "execution_count": 22,
   "id": "de90369a",
   "metadata": {},
   "outputs": [
    {
     "data": {
      "text/plain": [
       "<ModelVersion: aliases=[], creation_timestamp=1684931749116, current_stage='Production', description=('The model version <ModelVersion: aliases=[], '\n",
       " \"creation_timestamp=1684931749116, current_stage='None', description=None, \"\n",
       " \"last_updated_timestamp=1684931749116, name='nycxgb-regressor', \"\n",
       " \"run_id='3a2ad3288e994c65b5ca8fe7601cf126', run_link=None, \"\n",
       " \"source='/home/moses/Documents/mlops-zoomcamp/week2/mlruns/1/3a2ad3288e994c65b5ca8fe7601cf126/artifacts/model', \"\n",
       " \"status='READY', status_message=None, tags={}, user_id=None, version=3> was \"\n",
       " 'transmitted to stagging'), last_updated_timestamp=1684934031074, name='nycxgb-regressor', run_id='3a2ad3288e994c65b5ca8fe7601cf126', run_link=None, source='/home/moses/Documents/mlops-zoomcamp/week2/mlruns/1/3a2ad3288e994c65b5ca8fe7601cf126/artifacts/model', status='READY', status_message=None, tags={}, user_id=None, version=3>"
      ]
     },
     "execution_count": 22,
     "metadata": {},
     "output_type": "execute_result"
    }
   ],
   "source": [
    "# To promote a model to production\n",
    "client.transition_model_version_stage(name='nycxgb-regressor', \n",
    "                                      version=3, \n",
    "                                      stage='production', \n",
    "                                      archive_existing_versions=False)\n"
   ]
  },
  {
   "cell_type": "code",
   "execution_count": 23,
   "id": "d9093502",
   "metadata": {},
   "outputs": [
    {
     "data": {
      "text/plain": [
       "<ModelVersion: aliases=[], creation_timestamp=1684931749116, current_stage='Production', description='The model version was transmitted to production', last_updated_timestamp=1684934118557, name='nycxgb-regressor', run_id='3a2ad3288e994c65b5ca8fe7601cf126', run_link=None, source='/home/moses/Documents/mlops-zoomcamp/week2/mlruns/1/3a2ad3288e994c65b5ca8fe7601cf126/artifacts/model', status='READY', status_message=None, tags={}, user_id=None, version=3>"
      ]
     },
     "execution_count": 23,
     "metadata": {},
     "output_type": "execute_result"
    }
   ],
   "source": [
    "## To annotate the model\n",
    "\n",
    "client.update_model_version(name='nycxgb-regressor', \n",
    "                            version=3, \n",
    "                            description=f\"The model version was transmitted to production\")"
   ]
  },
  {
   "cell_type": "code",
   "execution_count": null,
   "id": "672a7603",
   "metadata": {},
   "outputs": [],
   "source": []
  },
  {
   "cell_type": "code",
   "execution_count": null,
   "id": "20b0eda5",
   "metadata": {},
   "outputs": [],
   "source": []
  }
 ],
 "metadata": {
  "kernelspec": {
   "display_name": "Python 3 (ipykernel)",
   "language": "python",
   "name": "python3"
  },
  "language_info": {
   "codemirror_mode": {
    "name": "ipython",
    "version": 3
   },
   "file_extension": ".py",
   "mimetype": "text/x-python",
   "name": "python",
   "nbconvert_exporter": "python",
   "pygments_lexer": "ipython3",
   "version": "3.10.6"
  }
 },
 "nbformat": 4,
 "nbformat_minor": 5
}
