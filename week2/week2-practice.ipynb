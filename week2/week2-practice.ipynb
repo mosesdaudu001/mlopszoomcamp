{
 "cells": [
  {
   "cell_type": "code",
   "execution_count": 1,
   "id": "be0afecb",
   "metadata": {},
   "outputs": [
    {
     "name": "stdout",
     "output_type": "stream",
     "text": [
      "Python 3.10.6\r\n"
     ]
    }
   ],
   "source": [
    "!python -V"
   ]
  },
  {
   "cell_type": "code",
   "execution_count": 2,
   "id": "8a8882e4",
   "metadata": {},
   "outputs": [],
   "source": [
    "import pandas as pd\n",
    "import numpy as np\n",
    "\n",
    "import pickle\n",
    "import seaborn as sns\n",
    "import matplotlib.pyplot as plt\n",
    "\n",
    "from sklearn.feature_extraction import DictVectorizer\n",
    "from sklearn.linear_model import LinearRegression\n",
    "from sklearn.linear_model import Lasso\n",
    "from sklearn.linear_model import Ridge\n",
    "\n",
    "from sklearn.metrics import mean_squared_error\n",
    "\n",
    "import mlflow"
   ]
  },
  {
   "cell_type": "code",
   "execution_count": 3,
   "id": "b3ff0427",
   "metadata": {},
   "outputs": [
    {
     "name": "stderr",
     "output_type": "stream",
     "text": [
      "2023/05/28 18:28:28 INFO mlflow.store.db.utils: Creating initial MLflow database tables...\n",
      "2023/05/28 18:28:28 INFO mlflow.store.db.utils: Updating database tables\n",
      "INFO  [alembic.runtime.migration] Context impl SQLiteImpl.\n",
      "INFO  [alembic.runtime.migration] Will assume non-transactional DDL.\n",
      "INFO  [alembic.runtime.migration] Running upgrade  -> 451aebb31d03, add metric step\n",
      "INFO  [alembic.runtime.migration] Running upgrade 451aebb31d03 -> 90e64c465722, migrate user column to tags\n",
      "INFO  [alembic.runtime.migration] Running upgrade 90e64c465722 -> 181f10493468, allow nulls for metric values\n",
      "INFO  [alembic.runtime.migration] Running upgrade 181f10493468 -> df50e92ffc5e, Add Experiment Tags Table\n",
      "INFO  [alembic.runtime.migration] Running upgrade df50e92ffc5e -> 7ac759974ad8, Update run tags with larger limit\n",
      "INFO  [alembic.runtime.migration] Running upgrade 7ac759974ad8 -> 89d4b8295536, create latest metrics table\n",
      "INFO  [89d4b8295536_create_latest_metrics_table_py] Migration complete!\n",
      "INFO  [alembic.runtime.migration] Running upgrade 89d4b8295536 -> 2b4d017a5e9b, add model registry tables to db\n",
      "INFO  [2b4d017a5e9b_add_model_registry_tables_to_db_py] Adding registered_models and model_versions tables to database.\n",
      "INFO  [2b4d017a5e9b_add_model_registry_tables_to_db_py] Migration complete!\n",
      "INFO  [alembic.runtime.migration] Running upgrade 2b4d017a5e9b -> cfd24bdc0731, Update run status constraint with killed\n",
      "INFO  [alembic.runtime.migration] Running upgrade cfd24bdc0731 -> 0a8213491aaa, drop_duplicate_killed_constraint\n",
      "INFO  [alembic.runtime.migration] Running upgrade 0a8213491aaa -> 728d730b5ebd, add registered model tags table\n",
      "INFO  [alembic.runtime.migration] Running upgrade 728d730b5ebd -> 27a6a02d2cf1, add model version tags table\n",
      "INFO  [alembic.runtime.migration] Running upgrade 27a6a02d2cf1 -> 84291f40a231, add run_link to model_version\n",
      "INFO  [alembic.runtime.migration] Running upgrade 84291f40a231 -> a8c4a736bde6, allow nulls for run_id\n",
      "INFO  [alembic.runtime.migration] Running upgrade a8c4a736bde6 -> 39d1c3be5f05, add_is_nan_constraint_for_metrics_tables_if_necessary\n",
      "INFO  [alembic.runtime.migration] Running upgrade 39d1c3be5f05 -> c48cb773bb87, reset_default_value_for_is_nan_in_metrics_table_for_mysql\n",
      "INFO  [alembic.runtime.migration] Running upgrade c48cb773bb87 -> bd07f7e963c5, create index on run_uuid\n",
      "INFO  [alembic.runtime.migration] Running upgrade bd07f7e963c5 -> 0c779009ac13, add deleted_time field to runs table\n",
      "INFO  [alembic.runtime.migration] Running upgrade 0c779009ac13 -> cc1f77228345, change param value length to 500\n",
      "INFO  [alembic.runtime.migration] Running upgrade cc1f77228345 -> 97727af70f4d, Add creation_time and last_update_time to experiments table\n",
      "INFO  [alembic.runtime.migration] Running upgrade 97727af70f4d -> 3500859a5d39, Add Model Aliases table\n",
      "INFO  [alembic.runtime.migration] Context impl SQLiteImpl.\n",
      "INFO  [alembic.runtime.migration] Will assume non-transactional DDL.\n",
      "2023/05/28 18:28:31 INFO mlflow.tracking.fluent: Experiment with name 'nyc-taxi-experiment' does not exist. Creating a new experiment.\n"
     ]
    },
    {
     "data": {
      "text/plain": [
       "<Experiment: artifact_location='/home/moses/Documents/mlops-zoomcamp/week2/mlruns/1', creation_time=1685294911602, experiment_id='1', last_update_time=1685294911602, lifecycle_stage='active', name='nyc-taxi-experiment', tags={}>"
      ]
     },
     "execution_count": 3,
     "metadata": {},
     "output_type": "execute_result"
    }
   ],
   "source": [
    "mlflow.set_tracking_uri('sqlite:///mlflow.db')\n",
    "mlflow.set_experiment('nyc-taxi-experiment')"
   ]
  },
  {
   "cell_type": "code",
   "execution_count": 4,
   "id": "c54e6d7a",
   "metadata": {},
   "outputs": [],
   "source": [
    "jan_df = pd.read_parquet('data/yellow_tripdata_2022-01.parquet')"
   ]
  },
  {
   "cell_type": "code",
   "execution_count": 5,
   "id": "f3eea16a",
   "metadata": {},
   "outputs": [],
   "source": [
    "jan_df['duration'] = jan_df.tpep_dropoff_datetime - jan_df.tpep_pickup_datetime\n",
    "jan_df.duration = jan_df.duration.apply(lambda td: td.total_seconds() / 60)"
   ]
  },
  {
   "cell_type": "code",
   "execution_count": 6,
   "id": "d0f12c1f",
   "metadata": {},
   "outputs": [],
   "source": [
    "jan_df = jan_df[(jan_df.duration >= 1) & (jan_df.duration <= 60)]"
   ]
  },
  {
   "cell_type": "code",
   "execution_count": 7,
   "id": "45e0e35c",
   "metadata": {},
   "outputs": [],
   "source": [
    "categorical = ['PULocationID', 'DOLocationID']\n",
    "\n",
    "jan_df[categorical] = jan_df[categorical].astype(str)"
   ]
  },
  {
   "cell_type": "code",
   "execution_count": 8,
   "id": "114af930",
   "metadata": {},
   "outputs": [],
   "source": [
    "train_dicts = jan_df[categorical].to_dict(orient='records')\n",
    "\n",
    "dv = DictVectorizer()\n",
    "X_train = dv.fit_transform(train_dicts)"
   ]
  },
  {
   "cell_type": "code",
   "execution_count": 9,
   "id": "5da92612",
   "metadata": {},
   "outputs": [
    {
     "data": {
      "text/html": [
       "<style>#sk-container-id-1 {color: black;background-color: white;}#sk-container-id-1 pre{padding: 0;}#sk-container-id-1 div.sk-toggleable {background-color: white;}#sk-container-id-1 label.sk-toggleable__label {cursor: pointer;display: block;width: 100%;margin-bottom: 0;padding: 0.3em;box-sizing: border-box;text-align: center;}#sk-container-id-1 label.sk-toggleable__label-arrow:before {content: \"▸\";float: left;margin-right: 0.25em;color: #696969;}#sk-container-id-1 label.sk-toggleable__label-arrow:hover:before {color: black;}#sk-container-id-1 div.sk-estimator:hover label.sk-toggleable__label-arrow:before {color: black;}#sk-container-id-1 div.sk-toggleable__content {max-height: 0;max-width: 0;overflow: hidden;text-align: left;background-color: #f0f8ff;}#sk-container-id-1 div.sk-toggleable__content pre {margin: 0.2em;color: black;border-radius: 0.25em;background-color: #f0f8ff;}#sk-container-id-1 input.sk-toggleable__control:checked~div.sk-toggleable__content {max-height: 200px;max-width: 100%;overflow: auto;}#sk-container-id-1 input.sk-toggleable__control:checked~label.sk-toggleable__label-arrow:before {content: \"▾\";}#sk-container-id-1 div.sk-estimator input.sk-toggleable__control:checked~label.sk-toggleable__label {background-color: #d4ebff;}#sk-container-id-1 div.sk-label input.sk-toggleable__control:checked~label.sk-toggleable__label {background-color: #d4ebff;}#sk-container-id-1 input.sk-hidden--visually {border: 0;clip: rect(1px 1px 1px 1px);clip: rect(1px, 1px, 1px, 1px);height: 1px;margin: -1px;overflow: hidden;padding: 0;position: absolute;width: 1px;}#sk-container-id-1 div.sk-estimator {font-family: monospace;background-color: #f0f8ff;border: 1px dotted black;border-radius: 0.25em;box-sizing: border-box;margin-bottom: 0.5em;}#sk-container-id-1 div.sk-estimator:hover {background-color: #d4ebff;}#sk-container-id-1 div.sk-parallel-item::after {content: \"\";width: 100%;border-bottom: 1px solid gray;flex-grow: 1;}#sk-container-id-1 div.sk-label:hover label.sk-toggleable__label {background-color: #d4ebff;}#sk-container-id-1 div.sk-serial::before {content: \"\";position: absolute;border-left: 1px solid gray;box-sizing: border-box;top: 0;bottom: 0;left: 50%;z-index: 0;}#sk-container-id-1 div.sk-serial {display: flex;flex-direction: column;align-items: center;background-color: white;padding-right: 0.2em;padding-left: 0.2em;position: relative;}#sk-container-id-1 div.sk-item {position: relative;z-index: 1;}#sk-container-id-1 div.sk-parallel {display: flex;align-items: stretch;justify-content: center;background-color: white;position: relative;}#sk-container-id-1 div.sk-item::before, #sk-container-id-1 div.sk-parallel-item::before {content: \"\";position: absolute;border-left: 1px solid gray;box-sizing: border-box;top: 0;bottom: 0;left: 50%;z-index: -1;}#sk-container-id-1 div.sk-parallel-item {display: flex;flex-direction: column;z-index: 1;position: relative;background-color: white;}#sk-container-id-1 div.sk-parallel-item:first-child::after {align-self: flex-end;width: 50%;}#sk-container-id-1 div.sk-parallel-item:last-child::after {align-self: flex-start;width: 50%;}#sk-container-id-1 div.sk-parallel-item:only-child::after {width: 0;}#sk-container-id-1 div.sk-dashed-wrapped {border: 1px dashed gray;margin: 0 0.4em 0.5em 0.4em;box-sizing: border-box;padding-bottom: 0.4em;background-color: white;}#sk-container-id-1 div.sk-label label {font-family: monospace;font-weight: bold;display: inline-block;line-height: 1.2em;}#sk-container-id-1 div.sk-label-container {text-align: center;}#sk-container-id-1 div.sk-container {/* jupyter's `normalize.less` sets `[hidden] { display: none; }` but bootstrap.min.css set `[hidden] { display: none !important; }` so we also need the `!important` here to be able to override the default hidden behavior on the sphinx rendered scikit-learn.org. See: https://github.com/scikit-learn/scikit-learn/issues/21755 */display: inline-block !important;position: relative;}#sk-container-id-1 div.sk-text-repr-fallback {display: none;}</style><div id=\"sk-container-id-1\" class=\"sk-top-container\"><div class=\"sk-text-repr-fallback\"><pre>LinearRegression()</pre><b>In a Jupyter environment, please rerun this cell to show the HTML representation or trust the notebook. <br />On GitHub, the HTML representation is unable to render, please try loading this page with nbviewer.org.</b></div><div class=\"sk-container\" hidden><div class=\"sk-item\"><div class=\"sk-estimator sk-toggleable\"><input class=\"sk-toggleable__control sk-hidden--visually\" id=\"sk-estimator-id-1\" type=\"checkbox\" checked><label for=\"sk-estimator-id-1\" class=\"sk-toggleable__label sk-toggleable__label-arrow\">LinearRegression</label><div class=\"sk-toggleable__content\"><pre>LinearRegression()</pre></div></div></div></div></div>"
      ],
      "text/plain": [
       "LinearRegression()"
      ]
     },
     "execution_count": 9,
     "metadata": {},
     "output_type": "execute_result"
    }
   ],
   "source": [
    "target = 'duration'\n",
    "y_train = jan_df[target].values\n",
    "\n",
    "lr = LinearRegression()\n",
    "lr.fit(X_train, y_train)"
   ]
  },
  {
   "cell_type": "code",
   "execution_count": 10,
   "id": "8f0a0ead",
   "metadata": {},
   "outputs": [],
   "source": [
    "# Number 5\n",
    "y_pred = lr.predict(X_train)\n",
    "\n",
    "train_rmse=mean_squared_error(y_train, y_pred, squared=False)"
   ]
  },
  {
   "cell_type": "code",
   "execution_count": 11,
   "id": "2c84c339",
   "metadata": {},
   "outputs": [
    {
     "name": "stdout",
     "output_type": "stream",
     "text": [
      "6.986191065500608\n"
     ]
    }
   ],
   "source": [
    "print(train_rmse)"
   ]
  },
  {
   "cell_type": "code",
   "execution_count": 14,
   "id": "e54813b6",
   "metadata": {},
   "outputs": [],
   "source": [
    "def read_dataframe(filename):\n",
    "    if filename.endswith('.csv'):\n",
    "        df = pd.read_csv(filename)\n",
    "\n",
    "        df.tpep_dropoff_datetime = pd.to_datetime(df.tpep_dropoff_datetime)\n",
    "        df.tpep_pickup_datetime = pd.to_datetime(df.tpep_pickup_datetime)\n",
    "    elif filename.endswith('.parquet'):\n",
    "        df = pd.read_parquet(filename)\n",
    "\n",
    "    df['duration'] = df.tpep_dropoff_datetime - df.tpep_pickup_datetime\n",
    "    df.duration = df.duration.apply(lambda td: td.total_seconds() / 60)\n",
    "\n",
    "    df = df[(df.duration >= 1) & (df.duration <= 60)]\n",
    "\n",
    "    categorical = ['PULocationID', 'DOLocationID']\n",
    "    df[categorical] = df[categorical].astype(str)\n",
    "    \n",
    "    return df"
   ]
  },
  {
   "cell_type": "code",
   "execution_count": 15,
   "id": "26377b52",
   "metadata": {},
   "outputs": [],
   "source": [
    "df_val = read_dataframe('data/yellow_tripdata_2022-02.parquet')"
   ]
  },
  {
   "cell_type": "code",
   "execution_count": 16,
   "id": "50999ac3",
   "metadata": {},
   "outputs": [],
   "source": [
    "val_dicts = df_val[categorical].to_dict(orient='records')\n",
    "\n",
    "X_val = dv.transform(val_dicts)"
   ]
  },
  {
   "cell_type": "code",
   "execution_count": 17,
   "id": "ef9fea89",
   "metadata": {},
   "outputs": [],
   "source": [
    "target = 'duration'\n",
    "y_val = df_val[target].values"
   ]
  },
  {
   "cell_type": "code",
   "execution_count": 18,
   "id": "9cd564ab",
   "metadata": {},
   "outputs": [],
   "source": [
    "# Number 6\n",
    "y_pred_val = lr.predict(X_val)\n",
    "\n",
    "val_rmse=mean_squared_error(y_val, y_pred_val, squared=False)"
   ]
  },
  {
   "cell_type": "code",
   "execution_count": 19,
   "id": "88d16994",
   "metadata": {},
   "outputs": [
    {
     "name": "stdout",
     "output_type": "stream",
     "text": [
      "7.786408015215065\n"
     ]
    }
   ],
   "source": [
    "print(val_rmse)"
   ]
  },
  {
   "cell_type": "markdown",
   "id": "74fa3fa2",
   "metadata": {},
   "source": [
    "## Adding the mlflow functionality"
   ]
  },
  {
   "cell_type": "code",
   "execution_count": null,
   "id": "85924243",
   "metadata": {},
   "outputs": [
    {
     "name": "stderr",
     "output_type": "stream",
     "text": [
      "/tmp/ipykernel_6753/2952206573.py:15: UserWarning: With alpha=0, this algorithm does not converge well. You are advised to use the LinearRegression estimator\n",
      "  las.fit(X_train, y_train)\n"
     ]
    }
   ],
   "source": [
    "with mlflow.start_run():\n",
    "    \n",
    "    mlflow.set_tag(\"developer\", \"Moses Daudu\")\n",
    "    \n",
    "    mlflow.log_param(\"train-data-path\", \"data/yellow_tripdata_2022-01.parquet\")\n",
    "    mlflow.log_param(\"val-data-path\", \"data/yellow_tripdata_2022-02.parquet\")\n",
    "    \n",
    "    sample=np.arange(0,1,0.01)\n",
    "    \n",
    "    for samp in sample:\n",
    "        alpha=samp\n",
    "        mlflow.log_param(\"alpha\", alpha)\n",
    "    \n",
    "        las = Lasso(alpha)\n",
    "        las.fit(X_train, y_train)\n",
    "    \n",
    "        y_pred_train=las.predict(X_val)\n",
    "        \n",
    "        train_rmse=mean_squared_error(y_val, y_pred_train, squared=False)\n",
    "        mlflow.log_metric(\"RMSE\", train_rmse)\n",
    "    \n",
    "    "
   ]
  },
  {
   "cell_type": "code",
   "execution_count": 24,
   "id": "59de361f",
   "metadata": {},
   "outputs": [],
   "source": [
    "sample= np.arange(0, 1, 0.01)"
   ]
  },
  {
   "cell_type": "code",
   "execution_count": 26,
   "id": "44a44e80",
   "metadata": {},
   "outputs": [
    {
     "data": {
      "text/plain": [
       "100"
      ]
     },
     "execution_count": 26,
     "metadata": {},
     "output_type": "execute_result"
    }
   ],
   "source": [
    "len(sample)"
   ]
  },
  {
   "cell_type": "markdown",
   "id": "f2bc8dd4",
   "metadata": {},
   "source": [
    "## Second Part of Mlflow"
   ]
  },
  {
   "cell_type": "code",
   "execution_count": 20,
   "id": "2ed31eca",
   "metadata": {},
   "outputs": [],
   "source": [
    "import xgboost as xgb\n",
    "\n",
    "from hyperopt import fmin, tpe, hp, STATUS_OK, Trials\n",
    "from hyperopt.pyll import scope"
   ]
  },
  {
   "cell_type": "code",
   "execution_count": 21,
   "id": "8feae62a",
   "metadata": {},
   "outputs": [],
   "source": [
    "train = xgb.DMatrix(X_train, label=y_train)\n",
    "valid = xgb.DMatrix(X_val, label=y_val)"
   ]
  },
  {
   "cell_type": "code",
   "execution_count": 22,
   "id": "c12fbca4",
   "metadata": {},
   "outputs": [],
   "source": [
    "def objective(params):\n",
    "    with mlflow.start_run():\n",
    "        mlflow.set_tag(\"model\", \"xgboost\")\n",
    "        mlflow.set_tag(\"developer\", \"Moses Daudu\")\n",
    "        mlflow.log_params(params)\n",
    "        booster = xgb.train(\n",
    "            params=params,\n",
    "            dtrain=train,\n",
    "            num_boost_round=10,\n",
    "            evals=[(valid, 'validation')],\n",
    "            early_stopping_rounds=50\n",
    "        )\n",
    "        y_pred = booster.predict(valid)\n",
    "        rmse = mean_squared_error(y_val, y_pred, squared=False)\n",
    "        mlflow.log_metric(\"rmse\", rmse)\n",
    "\n",
    "    return {'loss': rmse, 'status': STATUS_OK}"
   ]
  },
  {
   "cell_type": "code",
   "execution_count": 23,
   "id": "e6a4b8e3",
   "metadata": {},
   "outputs": [],
   "source": [
    "search_space = {\n",
    "    'max_depth': scope.int(hp.quniform('max_depth', 4, 100, 1)),\n",
    "    'learning_rate': hp.loguniform('learning_rate', -3, 0),\n",
    "    'reg_alpha': hp.loguniform('reg_alpha', -5, -1),\n",
    "    'reg_lambda': hp.loguniform('reg_lambda', -6, -1),\n",
    "    'min_child_weight': hp.loguniform('min_child_weight', -1, 3),\n",
    "    'objective': 'reg:linear',\n",
    "    'seed': 42\n",
    "}\n"
   ]
  },
  {
   "cell_type": "code",
   "execution_count": 24,
   "id": "3c4b631f",
   "metadata": {},
   "outputs": [
    {
     "name": "stdout",
     "output_type": "stream",
     "text": [
      "[10:25:25] WARNING: ../src/objective/regression_obj.cu:213: reg:linear is now deprecated in favor of reg:squarederror.\n",
      "[0]\tvalidation-rmse:8.55580                                                     \n",
      "[1]\tvalidation-rmse:7.64329                                                     \n",
      "[2]\tvalidation-rmse:7.39879                                                     \n",
      "[3]\tvalidation-rmse:7.05263                                                     \n",
      "[4]\tvalidation-rmse:6.96653                                                     \n",
      "[5]\tvalidation-rmse:6.88865                                                     \n",
      "[6]\tvalidation-rmse:6.74579                                                     \n",
      "[7]\tvalidation-rmse:6.70115                                                     \n",
      "[8]\tvalidation-rmse:6.55471                                                     \n",
      "[9]\tvalidation-rmse:6.42374                                                     \n",
      "[10:25:48] WARNING: ../src/objective/regression_obj.cu:213: reg:linear is now deprecated in favor of reg:squarederror.\n",
      "[0]\tvalidation-rmse:15.72968                                                    \n",
      "[1]\tvalidation-rmse:15.08851                                                    \n",
      "[2]\tvalidation-rmse:14.49587                                                    \n",
      "[3]\tvalidation-rmse:13.94816                                                    \n",
      "[4]\tvalidation-rmse:13.44247                                                    \n",
      "[5]\tvalidation-rmse:12.97757                                                    \n",
      "[6]\tvalidation-rmse:12.54920                                                    \n",
      "[7]\tvalidation-rmse:12.15312                                                    \n",
      "[8]\tvalidation-rmse:11.79129                                                    \n",
      "[9]\tvalidation-rmse:11.45919                                                    \n",
      "[10:26:00] WARNING: ../src/objective/regression_obj.cu:213: reg:linear is now deprecated in favor of reg:squarederror.\n",
      "[0]\tvalidation-rmse:13.74619                                                    \n",
      "[1]\tvalidation-rmse:11.83076                                                    \n",
      "[2]\tvalidation-rmse:10.50531                                                    \n",
      "[3]\tvalidation-rmse:9.56998                                                     \n",
      "[4]\tvalidation-rmse:8.94306                                                     \n",
      "[5]\tvalidation-rmse:8.52150                                                     \n",
      "[6]\tvalidation-rmse:8.23092                                                     \n",
      "[7]\tvalidation-rmse:8.02081                                                     \n",
      "[8]\tvalidation-rmse:7.87328                                                     \n",
      "[9]\tvalidation-rmse:7.62736                                                     \n",
      "[10:26:21] WARNING: ../src/objective/regression_obj.cu:213: reg:linear is now deprecated in favor of reg:squarederror.\n",
      "[0]\tvalidation-rmse:14.94664                                                    \n",
      "[1]\tvalidation-rmse:13.69139                                                    \n",
      "[2]\tvalidation-rmse:12.62018                                                    \n",
      "[3]\tvalidation-rmse:11.71676                                                    \n",
      "[4]\tvalidation-rmse:10.82618                                                    \n",
      "[5]\tvalidation-rmse:10.17241                                                    \n",
      "[6]\tvalidation-rmse:9.64328                                                     \n",
      "[7]\tvalidation-rmse:9.06279                                                     \n",
      "[8]\tvalidation-rmse:8.69440                                                     \n",
      "[9]\tvalidation-rmse:8.38742                                                     \n",
      "[10:27:05] WARNING: ../src/objective/regression_obj.cu:213: reg:linear is now deprecated in favor of reg:squarederror.\n",
      "[0]\tvalidation-rmse:8.33734                                                     \n",
      "[1]\tvalidation-rmse:7.30462                                                     \n",
      "[2]\tvalidation-rmse:6.64533                                                     \n",
      "[3]\tvalidation-rmse:6.39632                                                     \n",
      "[4]\tvalidation-rmse:6.26594                                                     \n",
      "[5]\tvalidation-rmse:6.22205                                                     \n",
      "[6]\tvalidation-rmse:5.94950                                                     \n",
      "[7]\tvalidation-rmse:5.90974                                                     \n",
      "[8]\tvalidation-rmse:5.83885                                                     \n",
      "[9]\tvalidation-rmse:5.78385                                                     \n",
      "[10:27:44] WARNING: ../src/objective/regression_obj.cu:213: reg:linear is now deprecated in favor of reg:squarederror.\n",
      "[0]\tvalidation-rmse:12.87016                                                    \n",
      "[1]\tvalidation-rmse:10.62080                                                    \n",
      "[2]\tvalidation-rmse:9.28132                                                     \n",
      "[3]\tvalidation-rmse:8.27383                                                     \n",
      "[4]\tvalidation-rmse:7.79849                                                     \n",
      "[5]\tvalidation-rmse:7.47139                                                     \n",
      "[6]\tvalidation-rmse:7.29120                                                     \n",
      "[7]\tvalidation-rmse:7.14162                                                     \n",
      "[8]\tvalidation-rmse:7.05418                                                     \n",
      "[9]\tvalidation-rmse:6.97030                                                     \n",
      "[10:28:20] WARNING: ../src/objective/regression_obj.cu:213: reg:linear is now deprecated in favor of reg:squarederror.\n",
      "[0]\tvalidation-rmse:15.00783                                                    \n",
      "[1]\tvalidation-rmse:13.78910                                                    \n",
      "[2]\tvalidation-rmse:12.73725                                                    \n",
      "[3]\tvalidation-rmse:11.84190                                                    \n",
      "[4]\tvalidation-rmse:10.97386                                                    \n",
      "[5]\tvalidation-rmse:10.33537                                                    \n",
      "[6]\tvalidation-rmse:9.64009                                                     \n",
      "[7]\tvalidation-rmse:9.05404                                                     \n",
      "[8]\tvalidation-rmse:8.66424                                                     \n",
      "[9]\tvalidation-rmse:8.21109                                                     \n",
      "[10:29:17] WARNING: ../src/objective/regression_obj.cu:213: reg:linear is now deprecated in favor of reg:squarederror.\n",
      "[0]\tvalidation-rmse:11.40250                                                    \n",
      "[1]\tvalidation-rmse:9.30208                                                     \n",
      "[2]\tvalidation-rmse:8.45150                                                     \n",
      "[3]\tvalidation-rmse:8.07759                                                     \n",
      "[4]\tvalidation-rmse:7.87637                                                     \n",
      "[5]\tvalidation-rmse:7.76337                                                     \n",
      "[6]\tvalidation-rmse:7.68087                                                     \n",
      "[7]\tvalidation-rmse:7.60041                                                     \n",
      "[8]\tvalidation-rmse:7.54440                                                     \n",
      "[9]\tvalidation-rmse:7.41242                                                     \n",
      "[10:29:31] WARNING: ../src/objective/regression_obj.cu:213: reg:linear is now deprecated in favor of reg:squarederror.\n",
      "[0]\tvalidation-rmse:15.63340                                                    \n",
      "[1]\tvalidation-rmse:14.90597                                                    \n",
      "[2]\tvalidation-rmse:14.23373                                                    \n",
      "[3]\tvalidation-rmse:13.61440                                                    \n",
      "[4]\tvalidation-rmse:13.04214                                                    \n",
      "[5]\tvalidation-rmse:12.51226                                                    \n",
      "[6]\tvalidation-rmse:11.97375                                                    \n",
      "[7]\tvalidation-rmse:11.50446                                                    \n",
      "[8]\tvalidation-rmse:11.02937                                                    \n",
      "[9]\tvalidation-rmse:10.65869                                                    \n",
      "[10:30:39] WARNING: ../src/objective/regression_obj.cu:213: reg:linear is now deprecated in favor of reg:squarederror.\n",
      "[0]\tvalidation-rmse:15.63531                                                    \n",
      "[1]\tvalidation-rmse:14.90675                                                    \n",
      "[2]\tvalidation-rmse:14.23646                                                    \n",
      "[3]\tvalidation-rmse:13.61496                                                    \n",
      "[4]\tvalidation-rmse:13.03959                                                    \n",
      "[5]\tvalidation-rmse:12.51049                                                    \n",
      "[6]\tvalidation-rmse:12.02512                                                    \n",
      "[7]\tvalidation-rmse:11.58099                                                    \n",
      "[8]\tvalidation-rmse:11.11014                                                    \n",
      "[9]\tvalidation-rmse:10.74288                                                    \n",
      "[10:31:36] WARNING: ../src/objective/regression_obj.cu:213: reg:linear is now deprecated in favor of reg:squarederror.\n",
      "[0]\tvalidation-rmse:15.60438                                                    \n",
      "[1]\tvalidation-rmse:14.85859                                                    \n",
      "[2]\tvalidation-rmse:14.18040                                                    \n",
      "[3]\tvalidation-rmse:13.56311                                                    \n",
      "[4]\tvalidation-rmse:13.00370                                                    \n",
      "[5]\tvalidation-rmse:12.49725                                                    \n",
      "[6]\tvalidation-rmse:12.03873                                                    \n",
      "[7]\tvalidation-rmse:11.62479                                                    \n",
      "[8]\tvalidation-rmse:11.24859                                                    \n",
      "[9]\tvalidation-rmse:10.91184                                                    \n",
      "[10:31:48] WARNING: ../src/objective/regression_obj.cu:213: reg:linear is now deprecated in favor of reg:squarederror.\n",
      "[0]\tvalidation-rmse:15.28683                                                    \n",
      "[1]\tvalidation-rmse:14.30004                                                    \n",
      "[2]\tvalidation-rmse:13.43983                                                    \n",
      "[3]\tvalidation-rmse:12.69827                                                    \n",
      "[4]\tvalidation-rmse:12.05617                                                    \n",
      "[5]\tvalidation-rmse:11.50685                                                    \n",
      "[6]\tvalidation-rmse:11.03535                                                    \n",
      "[7]\tvalidation-rmse:10.63029                                                    \n",
      "[8]\tvalidation-rmse:10.28554                                                    \n",
      "[9]\tvalidation-rmse:9.99218                                                     \n",
      "[10:31:55] WARNING: ../src/objective/regression_obj.cu:213: reg:linear is now deprecated in favor of reg:squarederror.\n",
      "[0]\tvalidation-rmse:14.51797                                                    \n",
      "[1]\tvalidation-rmse:12.95166                                                    \n",
      "[2]\tvalidation-rmse:11.68808                                                    \n",
      "[3]\tvalidation-rmse:10.47845                                                    \n",
      "[4]\tvalidation-rmse:9.65549                                                     \n",
      "[5]\tvalidation-rmse:8.81421                                                     \n",
      "[6]\tvalidation-rmse:8.29779                                                     \n",
      "[7]\tvalidation-rmse:7.70943                                                     \n",
      "[8]\tvalidation-rmse:7.24343                                                     \n",
      "[9]\tvalidation-rmse:6.87492                                                     \n",
      "[10:33:25] WARNING: ../src/objective/regression_obj.cu:213: reg:linear is now deprecated in favor of reg:squarederror.\n",
      "[0]\tvalidation-rmse:13.84569                                                    \n",
      "[1]\tvalidation-rmse:11.91239                                                    \n",
      "[2]\tvalidation-rmse:10.47979                                                    \n",
      "[3]\tvalidation-rmse:9.14112                                                     \n",
      "[4]\tvalidation-rmse:8.38092                                                     \n",
      "[5]\tvalidation-rmse:7.56583                                                     \n",
      "[6]\tvalidation-rmse:6.99513                                                     \n",
      "[7]\tvalidation-rmse:6.71071                                                     \n",
      "[8]\tvalidation-rmse:6.50595                                                     \n",
      "[9]\tvalidation-rmse:6.21314                                                     \n",
      "[10:34:53] WARNING: ../src/objective/regression_obj.cu:213: reg:linear is now deprecated in favor of reg:squarederror.\n",
      "[0]\tvalidation-rmse:14.42182                                                    \n",
      "[1]\tvalidation-rmse:12.87611                                                    \n",
      "[2]\tvalidation-rmse:11.69403                                                    \n",
      "[3]\tvalidation-rmse:10.80102                                                    \n",
      "[4]\tvalidation-rmse:10.13290                                                    \n",
      "[5]\tvalidation-rmse:9.63501                                                     \n",
      "[6]\tvalidation-rmse:9.26268                                                     \n",
      "[7]\tvalidation-rmse:8.97842                                                     \n",
      "[8]\tvalidation-rmse:8.76894                                                     \n",
      "[9]\tvalidation-rmse:8.61328                                                     \n",
      "[10:35:01] WARNING: ../src/objective/regression_obj.cu:213: reg:linear is now deprecated in favor of reg:squarederror.\n",
      "[0]\tvalidation-rmse:15.82176                                                    \n",
      "[1]\tvalidation-rmse:15.25851                                                    \n",
      "[2]\tvalidation-rmse:14.73210                                                    \n",
      "[3]\tvalidation-rmse:14.23625                                                    \n",
      "[4]\tvalidation-rmse:13.77592                                                    \n",
      "[5]\tvalidation-rmse:13.34634                                                    \n",
      "[6]\tvalidation-rmse:12.94207                                                    \n",
      "[7]\tvalidation-rmse:12.56771                                                    \n",
      "[8]\tvalidation-rmse:12.21644                                                    \n",
      "[9]\tvalidation-rmse:11.89101                                                    \n",
      "[10:35:19] WARNING: ../src/objective/regression_obj.cu:213: reg:linear is now deprecated in favor of reg:squarederror.\n",
      "[0]\tvalidation-rmse:13.40491                                                    \n",
      "[1]\tvalidation-rmse:11.31904                                                    \n",
      "[2]\tvalidation-rmse:9.50312                                                     \n",
      "[3]\tvalidation-rmse:8.48793                                                     \n",
      "[4]\tvalidation-rmse:7.83152                                                     \n",
      "[5]\tvalidation-rmse:7.09229                                                     \n",
      "[6]\tvalidation-rmse:6.79487                                                     \n",
      "[7]\tvalidation-rmse:6.38825                                                     \n",
      "[8]\tvalidation-rmse:6.25032                                                     \n",
      "[9]\tvalidation-rmse:6.15261                                                     \n",
      "[10:36:29] WARNING: ../src/objective/regression_obj.cu:213: reg:linear is now deprecated in favor of reg:squarederror.\n",
      "[0]\tvalidation-rmse:14.86357                                                    \n",
      "[1]\tvalidation-rmse:13.54815                                                    \n",
      "[2]\tvalidation-rmse:12.44475                                                    \n",
      "[3]\tvalidation-rmse:11.53647                                                    \n"
     ]
    },
    {
     "name": "stdout",
     "output_type": "stream",
     "text": [
      "[4]\tvalidation-rmse:10.65116                                                    \n",
      "[5]\tvalidation-rmse:10.02794                                                    \n",
      "[6]\tvalidation-rmse:9.38923                                                     \n",
      "[7]\tvalidation-rmse:8.96323                                                     \n",
      "[8]\tvalidation-rmse:8.50577                                                     \n",
      "[9]\tvalidation-rmse:8.21846                                                     \n",
      "[10:37:11] WARNING: ../src/objective/regression_obj.cu:213: reg:linear is now deprecated in favor of reg:squarederror.\n",
      "[0]\tvalidation-rmse:7.45954                                                     \n",
      "[1]\tvalidation-rmse:6.43339                                                     \n",
      "[2]\tvalidation-rmse:6.00855                                                     \n",
      "[3]\tvalidation-rmse:5.91476                                                     \n",
      "[4]\tvalidation-rmse:5.72197                                                     \n",
      "[5]\tvalidation-rmse:5.67321                                                     \n",
      "[6]\tvalidation-rmse:5.63667                                                     \n",
      "[7]\tvalidation-rmse:5.60544                                                     \n",
      "[8]\tvalidation-rmse:5.58036                                                     \n",
      "[9]\tvalidation-rmse:5.57496                                                     \n",
      "[10:38:08] WARNING: ../src/objective/regression_obj.cu:213: reg:linear is now deprecated in favor of reg:squarederror.\n",
      "[0]\tvalidation-rmse:9.16360                                                     \n",
      "[1]\tvalidation-rmse:7.05314                                                     \n",
      "[2]\tvalidation-rmse:6.46828                                                     \n",
      "[3]\tvalidation-rmse:5.99469                                                     \n",
      "[4]\tvalidation-rmse:5.87734                                                     \n",
      "[5]\tvalidation-rmse:5.81240                                                     \n",
      "[6]\tvalidation-rmse:5.77935                                                     \n",
      "[7]\tvalidation-rmse:5.52859                                                     \n",
      "[8]\tvalidation-rmse:5.52441                                                     \n",
      "[9]\tvalidation-rmse:5.51751                                                     \n",
      "[10:39:21] WARNING: ../src/objective/regression_obj.cu:213: reg:linear is now deprecated in favor of reg:squarederror.\n",
      "[0]\tvalidation-rmse:10.45603                                                    \n",
      "[1]\tvalidation-rmse:7.38904                                                     \n",
      "[2]\tvalidation-rmse:6.53349                                                     \n",
      "[3]\tvalidation-rmse:6.19661                                                     \n",
      "[4]\tvalidation-rmse:5.76223                                                     \n",
      "[5]\tvalidation-rmse:5.70380                                                     \n",
      "[6]\tvalidation-rmse:5.61831                                                     \n",
      "[7]\tvalidation-rmse:5.60200                                                     \n",
      "[8]\tvalidation-rmse:5.58903                                                     \n",
      "[9]\tvalidation-rmse:5.57140                                                     \n",
      "[10:40:46] WARNING: ../src/objective/regression_obj.cu:213: reg:linear is now deprecated in favor of reg:squarederror.\n",
      "[0]\tvalidation-rmse:10.42503                                                    \n",
      "[1]\tvalidation-rmse:7.36786                                                     \n",
      "[2]\tvalidation-rmse:6.51580                                                     \n",
      "[3]\tvalidation-rmse:6.17415                                                     \n",
      "[4]\tvalidation-rmse:5.75376                                                     \n",
      "[5]\tvalidation-rmse:5.69496                                                     \n",
      "[6]\tvalidation-rmse:5.66508                                                     \n",
      "[7]\tvalidation-rmse:5.56263                                                     \n",
      "[8]\tvalidation-rmse:5.55494                                                     \n",
      "[9]\tvalidation-rmse:5.54551                                                     \n",
      "[10:42:11] WARNING: ../src/objective/regression_obj.cu:213: reg:linear is now deprecated in favor of reg:squarederror.\n",
      "[0]\tvalidation-rmse:10.47634                                                    \n",
      "[1]\tvalidation-rmse:7.40617                                                     \n",
      "[2]\tvalidation-rmse:6.54822                                                     \n",
      "[3]\tvalidation-rmse:6.00759                                                     \n",
      "[4]\tvalidation-rmse:5.87474                                                     \n",
      "[5]\tvalidation-rmse:5.79965                                                     \n",
      "[6]\tvalidation-rmse:5.76100                                                     \n",
      "[7]\tvalidation-rmse:5.61495                                                     \n",
      "[8]\tvalidation-rmse:5.60101                                                     \n",
      "[9]\tvalidation-rmse:5.59251                                                     \n",
      "[10:43:30] WARNING: ../src/objective/regression_obj.cu:213: reg:linear is now deprecated in favor of reg:squarederror.\n",
      "[0]\tvalidation-rmse:12.10453                                                    \n",
      "[1]\tvalidation-rmse:9.43170                                                     \n",
      "[2]\tvalidation-rmse:8.09507                                                     \n",
      "[3]\tvalidation-rmse:6.86835                                                     \n",
      "[4]\tvalidation-rmse:6.44855                                                     \n",
      "[5]\tvalidation-rmse:6.21042                                                     \n",
      "[6]\tvalidation-rmse:5.85067                                                     \n",
      "[7]\tvalidation-rmse:5.78034                                                     \n",
      "[8]\tvalidation-rmse:5.63328                                                     \n",
      "[9]\tvalidation-rmse:5.60772                                                     \n",
      "[10:45:10] WARNING: ../src/objective/regression_obj.cu:213: reg:linear is now deprecated in favor of reg:squarederror.\n",
      "[0]\tvalidation-rmse:8.97484                                                     \n",
      "[1]\tvalidation-rmse:6.71084                                                     \n",
      "[2]\tvalidation-rmse:6.31341                                                     \n",
      "[3]\tvalidation-rmse:6.06547                                                     \n",
      "[4]\tvalidation-rmse:5.84677                                                     \n",
      "[5]\tvalidation-rmse:5.66894                                                     \n",
      "[6]\tvalidation-rmse:5.62310                                                     \n",
      "[7]\tvalidation-rmse:5.58882                                                     \n",
      "[8]\tvalidation-rmse:5.55845                                                     \n",
      "[9]\tvalidation-rmse:5.54559                                                     \n",
      "100%|██████████| 25/25 [21:00<00:00, 50.44s/trial, best loss: 5.517506932788164]\n"
     ]
    }
   ],
   "source": [
    "best_result = fmin(\n",
    "    fn=objective,\n",
    "    space=search_space,\n",
    "    algo=tpe.suggest,\n",
    "    max_evals=25,\n",
    "    trials=Trials()\n",
    ")"
   ]
  },
  {
   "cell_type": "code",
   "execution_count": null,
   "id": "20fd5fd0",
   "metadata": {},
   "outputs": [],
   "source": [
    "param = {\n",
    "    'learning_rate' : 0.6620269443945731\n",
    "    'max_depth' : 75\n",
    "    'min_child_weight' : 0.6681121434468128\n",
    "    'objective' : 'reg:linear'\n",
    "    'reg_alpha' : 0.009835858863989126\n",
    "    'reg_lambda' : 0.23315101108258487\n",
    "    'seed' : 42\n",
    "}\n",
    "\n",
    "boster = fmin()"
   ]
  }
 ],
 "metadata": {
  "kernelspec": {
   "display_name": "Python 3 (ipykernel)",
   "language": "python",
   "name": "python3"
  },
  "language_info": {
   "codemirror_mode": {
    "name": "ipython",
    "version": 3
   },
   "file_extension": ".py",
   "mimetype": "text/x-python",
   "name": "python",
   "nbconvert_exporter": "python",
   "pygments_lexer": "ipython3",
   "version": "3.10.6"
  }
 },
 "nbformat": 4,
 "nbformat_minor": 5
}
